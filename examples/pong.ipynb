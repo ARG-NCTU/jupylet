{
 "cells": [
  {
   "cell_type": "markdown",
   "metadata": {},
   "source": [
    "### Pong\n",
    "\n",
    "Run this notebook and see what happens. \n",
    "\n",
    "Click the game canvas once it shows up to bring it into focus and then use the mouse to control the pedal.\n",
    "\n",
    "* pong sound is by [freesound](https://freesound.org/people/NoiseCollector/sounds/4359/).\n",
    "* Commodore 64 font is by [KreativeKorp](https://www.kreativekorp.com/software/fonts/c64.shtml)."
   ]
  },
  {
   "cell_type": "code",
   "execution_count": null,
   "metadata": {},
   "outputs": [],
   "source": []
  },
  {
   "cell_type": "code",
   "execution_count": 1,
   "metadata": {},
   "outputs": [],
   "source": [
    "import pyglet\n",
    "import math\n",
    "import time\n",
    "import sys\n",
    "import os\n",
    "\n",
    "import PIL.Image\n",
    "\n",
    "import numpy as np"
   ]
  },
  {
   "cell_type": "code",
   "execution_count": 2,
   "metadata": {},
   "outputs": [],
   "source": [
    "p0 = os.path.abspath('.')\n",
    "p1 = os.path.abspath(os.path.join(p0, '..'))\n",
    "\n",
    "sys.path.insert(0, p1)"
   ]
  },
  {
   "cell_type": "code",
   "execution_count": 3,
   "metadata": {},
   "outputs": [],
   "source": [
    "import jupylet\n",
    "\n",
    "from jupylet import *"
   ]
  },
  {
   "cell_type": "code",
   "execution_count": 4,
   "metadata": {},
   "outputs": [],
   "source": [
    "import pyglet.window.key as key"
   ]
  },
  {
   "cell_type": "code",
   "execution_count": null,
   "metadata": {},
   "outputs": [],
   "source": []
  },
  {
   "cell_type": "code",
   "execution_count": 5,
   "metadata": {},
   "outputs": [],
   "source": [
    "app = App(mode='jupyter')"
   ]
  },
  {
   "cell_type": "code",
   "execution_count": 6,
   "metadata": {},
   "outputs": [],
   "source": [
    "window = app.window"
   ]
  },
  {
   "cell_type": "code",
   "execution_count": 7,
   "metadata": {},
   "outputs": [],
   "source": [
    "WIDTH = app.width\n",
    "HEIGHT = app.height"
   ]
  },
  {
   "cell_type": "code",
   "execution_count": 8,
   "metadata": {},
   "outputs": [],
   "source": [
    "background = '#3e32a2'\n",
    "foreground = '#7c71da'"
   ]
  },
  {
   "cell_type": "code",
   "execution_count": 9,
   "metadata": {},
   "outputs": [],
   "source": [
    "app.set_window_color(foreground)"
   ]
  },
  {
   "cell_type": "code",
   "execution_count": null,
   "metadata": {},
   "outputs": [],
   "source": []
  },
  {
   "cell_type": "code",
   "execution_count": 10,
   "metadata": {},
   "outputs": [],
   "source": [
    "a0 = np.ones((32, 32)) * 255\n",
    "a1 = np.ones((128, 16)) * 255\n",
    "a2 = np.ones((HEIGHT * 9 // 10, WIDTH * 9 // 10, 3)) * jupylet.color2rgb(background)[:3]"
   ]
  },
  {
   "cell_type": "code",
   "execution_count": 11,
   "metadata": {},
   "outputs": [],
   "source": [
    "ball = Sprite(a0, y=HEIGHT/2, x=WIDTH/2)\n",
    "\n",
    "padl = Sprite(a1, y=HEIGHT/2, x=48)\n",
    "padr = Sprite(a1, y=HEIGHT/2, x=WIDTH-48)\n",
    "\n",
    "field = Sprite(a2, y=HEIGHT/2, x=WIDTH/2) "
   ]
  },
  {
   "cell_type": "code",
   "execution_count": 12,
   "metadata": {},
   "outputs": [],
   "source": [
    "sound = pyglet.media.load('sounds/pong-blip.wav', streaming=False)"
   ]
  },
  {
   "cell_type": "code",
   "execution_count": null,
   "metadata": {},
   "outputs": [],
   "source": []
  },
  {
   "cell_type": "code",
   "execution_count": 13,
   "metadata": {},
   "outputs": [],
   "source": [
    "pyglet.font.add_file('fonts/PetMe64.ttf')"
   ]
  },
  {
   "cell_type": "code",
   "execution_count": 14,
   "metadata": {},
   "outputs": [],
   "source": [
    "scorel = Label(\n",
    "    '0', font_name='Pet Me 64', font_size=42, color=foreground, \n",
    "    x=64, y=HEIGHT/2, anchor_y='center', anchor_x='left'\n",
    ")\n",
    "\n",
    "scorer = Label(\n",
    "    '0', font_name='Pet Me 64', font_size=42, color=foreground, \n",
    "    x=WIDTH-64, y=HEIGHT/2, anchor_y='center', anchor_x='right'\n",
    ")"
   ]
  },
  {
   "cell_type": "code",
   "execution_count": 15,
   "metadata": {},
   "outputs": [],
   "source": [
    "sl = 0\n",
    "sr = 0"
   ]
  },
  {
   "cell_type": "code",
   "execution_count": 16,
   "metadata": {},
   "outputs": [],
   "source": [
    "@app.event\n",
    "def on_draw():\n",
    "    \n",
    "    window.clear()\n",
    "    \n",
    "    field.draw()\n",
    "    \n",
    "    scorel.draw()\n",
    "    scorer.draw()\n",
    "    \n",
    "    ball.draw()\n",
    "    padl.draw()\n",
    "    padr.draw()"
   ]
  },
  {
   "cell_type": "code",
   "execution_count": null,
   "metadata": {},
   "outputs": [],
   "source": []
  },
  {
   "cell_type": "code",
   "execution_count": 17,
   "metadata": {},
   "outputs": [],
   "source": [
    "pvy = 0\n",
    "yyy = HEIGHT/2"
   ]
  },
  {
   "cell_type": "code",
   "execution_count": 18,
   "metadata": {},
   "outputs": [],
   "source": [
    "@app.event\n",
    "def on_mouse_motion(x, y, dx, dy):\n",
    "    \n",
    "    global yyy\n",
    "    yyy = y\n",
    "    \n",
    "    \n",
    "@app.run_me_again_and_again(1/120)\n",
    "def update_pads(dt):\n",
    "    \n",
    "    global pvy\n",
    "    \n",
    "    avy = 200 * (yyy - padr.y)\n",
    "    pvy = pvy * 0.9 + (avy * dt)\n",
    "    \n",
    "    padr.y += pvy * dt\n",
    "    padl.y += pvy * dt\n",
    "    \n",
    "    padr.clip_position(WIDTH, HEIGHT)\n",
    "    padl.clip_position(WIDTH, HEIGHT)"
   ]
  },
  {
   "cell_type": "code",
   "execution_count": null,
   "metadata": {},
   "outputs": [],
   "source": []
  },
  {
   "cell_type": "code",
   "execution_count": 19,
   "metadata": {},
   "outputs": [],
   "source": [
    "bvx = 192\n",
    "bvy = 192"
   ]
  },
  {
   "cell_type": "code",
   "execution_count": 20,
   "metadata": {},
   "outputs": [],
   "source": [
    "@app.run_me_again_and_again(1/120)\n",
    "def update_ball(dt):\n",
    "    \n",
    "    global bvx, bvy, sl, sr\n",
    "\n",
    "    ball.x += bvx * dt\n",
    "    ball.y += bvy * dt\n",
    "    \n",
    "    if ball.top >= HEIGHT:\n",
    "        app.play_once(sound)\n",
    "        ball.y -= ball.top - HEIGHT\n",
    "        bvy = -bvy\n",
    "        \n",
    "    if ball.bottom <= 0:\n",
    "        app.play_once(sound)\n",
    "        ball.y -= ball.bottom\n",
    "        bvy = -bvy\n",
    "        \n",
    "    if ball.right >= WIDTH:\n",
    "        app.play_once(sound)\n",
    "        ball.x -= ball.right - WIDTH\n",
    "        bvx = -bvx\n",
    "        bvy = 192 * np.sign(bvy)\n",
    "        \n",
    "        sl += 1\n",
    "        scorel.text = str(sl)\n",
    "        \n",
    "    if ball.left <= 0:\n",
    "        app.play_once(sound)\n",
    "        ball.x -= ball.left\n",
    "        bvx = -bvx\n",
    "        bvy = 192 * np.sign(bvy)\n",
    "        \n",
    "        sr += 1\n",
    "        scorer.text = str(sr)\n",
    "        \n",
    "    if bvx > 0 and ball.top >= padr.bottom and padr.top >= ball.bottom: \n",
    "        if 0 < ball.right - padr.left < 10:\n",
    "            app.play_once(sound)\n",
    "            ball.x -= ball.right - padr.left\n",
    "            bvx = -bvx\n",
    "            bvy += pvy / 2\n",
    "            \n",
    "    if bvx < 0 and ball.top >= padl.bottom and padl.top >= ball.bottom: \n",
    "        if 0 < padl.right - ball.left < 10:\n",
    "            app.play_once(sound)\n",
    "            ball.x += ball.left - padl.right\n",
    "            bvx = -bvx\n",
    "            bvy += pvy / 2\n",
    "            \n",
    "    ball.wrap_position(WIDTH, HEIGHT)"
   ]
  },
  {
   "cell_type": "code",
   "execution_count": 21,
   "metadata": {
    "scrolled": false
   },
   "outputs": [
    {
     "data": {
      "application/vnd.jupyter.widget-view+json": {
       "model_id": "1452eb5326774a14a20538669d8edd42",
       "version_major": 2,
       "version_minor": 0
      },
      "text/plain": [
       "Canvas(layout=Layout(height='512px', width='512px'), size=(512, 512))"
      ]
     },
     "metadata": {},
     "output_type": "display_data"
    }
   ],
   "source": [
    "app.run()"
   ]
  },
  {
   "cell_type": "code",
   "execution_count": null,
   "metadata": {},
   "outputs": [],
   "source": []
  }
 ],
 "metadata": {
  "kernelspec": {
   "display_name": "Python 3",
   "language": "python",
   "name": "python3"
  },
  "language_info": {
   "codemirror_mode": {
    "name": "ipython",
    "version": 3
   },
   "file_extension": ".py",
   "mimetype": "text/x-python",
   "name": "python",
   "nbconvert_exporter": "python",
   "pygments_lexer": "ipython3",
   "version": "3.7.4"
  }
 },
 "nbformat": 4,
 "nbformat_minor": 2
}
