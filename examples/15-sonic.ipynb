{
 "cells": [
  {
   "cell_type": "markdown",
   "metadata": {},
   "source": [
    "### Sonic Py(thon)\n",
    "\n",
    "* The sampled Xylophone is by the [Versilian Community Sample Library](https://vis.versilstudios.com/vcsl.html)."
   ]
  },
  {
   "cell_type": "code",
   "execution_count": null,
   "metadata": {},
   "outputs": [],
   "source": []
  },
  {
   "cell_type": "code",
   "execution_count": 1,
   "metadata": {},
   "outputs": [],
   "source": [
    "import sys\n",
    "import os"
   ]
  },
  {
   "cell_type": "code",
   "execution_count": 2,
   "metadata": {},
   "outputs": [],
   "source": [
    "sys.path.insert(0, os.path.abspath('./..'))"
   ]
  },
  {
   "cell_type": "code",
   "execution_count": 3,
   "metadata": {},
   "outputs": [],
   "source": [
    "from jupylet.app import App\n",
    "\n",
    "from jupylet.audio.effects import *\n",
    "from jupylet.audio.device import *\n",
    "from jupylet.audio.sample import *\n",
    "from jupylet.audio.sound import *\n",
    "from jupylet.audio.synth import *\n",
    "from jupylet.audio.note import *\n",
    "from jupylet.audio import *"
   ]
  },
  {
   "cell_type": "code",
   "execution_count": 4,
   "metadata": {},
   "outputs": [],
   "source": [
    "app = App(mode='hidden')\n",
    "app.run()"
   ]
  },
  {
   "cell_type": "code",
   "execution_count": null,
   "metadata": {},
   "outputs": [],
   "source": []
  },
  {
   "cell_type": "code",
   "execution_count": 5,
   "metadata": {},
   "outputs": [],
   "source": [
    "#\n",
    "# Set up a beautiful reverb effect that adds a sense of space and a touch of realism \n",
    "# to the synthesized instrument. Try it with a pair of good headphones. \n",
    "#\n",
    "set_effects(ConvolutionReverb('./sounds/impulses/MaesHowe.flac'))"
   ]
  },
  {
   "cell_type": "code",
   "execution_count": null,
   "metadata": {},
   "outputs": [],
   "source": []
  },
  {
   "cell_type": "code",
   "execution_count": 6,
   "metadata": {},
   "outputs": [],
   "source": [
    "hammond.precussion = True\n",
    "hammond.reverb = True"
   ]
  },
  {
   "cell_type": "code",
   "execution_count": 7,
   "metadata": {},
   "outputs": [],
   "source": [
    "hammond.overdrive = True\n",
    "hammond.over.amp = 0.1"
   ]
  },
  {
   "cell_type": "code",
   "execution_count": 8,
   "metadata": {},
   "outputs": [],
   "source": [
    "hammond.chorus = True\n",
    "hammond.set_vibrato_and_chorus('c1')"
   ]
  },
  {
   "cell_type": "code",
   "execution_count": null,
   "metadata": {},
   "outputs": [],
   "source": []
  },
  {
   "cell_type": "code",
   "execution_count": 9,
   "metadata": {},
   "outputs": [],
   "source": [
    "hammond.play(C5, 1)"
   ]
  },
  {
   "cell_type": "code",
   "execution_count": 10,
   "metadata": {},
   "outputs": [],
   "source": [
    "hammond.play(C5, 1)\n",
    "hammond.play(F5, 1)"
   ]
  },
  {
   "cell_type": "code",
   "execution_count": 11,
   "metadata": {},
   "outputs": [],
   "source": [
    "hammond.play(C5, 1)\n",
    "hammond.play(F5, 1)\n",
    "\n",
    "await sleep(1)\n",
    "\n",
    "hammond.play(Ds5, 1)\n",
    "hammond.play(Gs5, 1)"
   ]
  },
  {
   "cell_type": "code",
   "execution_count": null,
   "metadata": {},
   "outputs": [],
   "source": []
  },
  {
   "cell_type": "code",
   "execution_count": 12,
   "metadata": {},
   "outputs": [],
   "source": [
    "#\n",
    "# The following line turns MIDI on. If you have an electric piano, hook it up \n",
    "# to your computer and it should just work.\n",
    "#\n",
    "app.set_midi_sound(hammond)"
   ]
  },
  {
   "cell_type": "code",
   "execution_count": 13,
   "metadata": {},
   "outputs": [],
   "source": [
    "# Uncomment the following line to reduce MIDI latency to minimum. If this change introduces\n",
    "# sound artefacts, either set latency back to 'high' or switch your computer power\n",
    "# management to performance mode.\n",
    "#\n",
    "#set_latency('lowest')"
   ]
  },
  {
   "cell_type": "code",
   "execution_count": null,
   "metadata": {},
   "outputs": [],
   "source": []
  },
  {
   "cell_type": "code",
   "execution_count": 14,
   "metadata": {},
   "outputs": [],
   "source": [
    "@app.sonic_live_loop2\n",
    "async def loop0():\n",
    "            \n",
    "    use(hammond)\n",
    "    \n",
    "    play(C3, 1/2)\n",
    "    play(F3, 1/2)\n",
    "    await sleep(1/2)\n",
    "\n",
    "    play(C3, 1/4)\n",
    "    play(F3, 1/4)\n",
    "    await sleep(1/4)\n",
    "\n",
    "    play(C3, 1/4)\n",
    "    play(F3, 1/4)\n",
    "    await sleep(1/4)\n",
    "                \n",
    "    play(Ds3, 1/4)\n",
    "    play(Gs3, 1/4)\n",
    "    await sleep(1/4)\n",
    "                \n",
    "    play(Ds3, 1/2)\n",
    "    play(Gs3, 1/2)\n",
    "    await sleep(1/2)\n",
    "    \n",
    "    play(C3, 3/4)\n",
    "    play(F3, 3/4)\n",
    "    await sleep(3/4)\n",
    "\n",
    "    play(C3, 1/4)\n",
    "    play(F3, 1/4)\n",
    "    await sleep(1/4)\n",
    "\n",
    "    play(C3, 1/4)\n",
    "    play(F3, 1/4)\n",
    "    await sleep(1/4)\n",
    "                \n",
    "    play(Ds3, 1/4)\n",
    "    play(Gs3, 1/4)\n",
    "    await sleep(1/4)\n",
    "                \n",
    "    play(F3, 1/2)\n",
    "    play(As3, 1/2)\n",
    "    await sleep(1/2)\n",
    "    \n",
    "    play(Ds3, 1/4)\n",
    "    play(Gs3, 1/4)\n",
    "    await sleep(1/4)\n",
    "                      "
   ]
  },
  {
   "cell_type": "code",
   "execution_count": 15,
   "metadata": {},
   "outputs": [],
   "source": [
    "##### # Uncomment and run to stop the live loop.\n",
    "#\n",
    "#app.stop(loop0)\n",
    "#"
   ]
  },
  {
   "cell_type": "code",
   "execution_count": null,
   "metadata": {},
   "outputs": [],
   "source": []
  }
 ],
 "metadata": {
  "kernelspec": {
   "display_name": "Python 3",
   "language": "python",
   "name": "python3"
  },
  "language_info": {
   "codemirror_mode": {
    "name": "ipython",
    "version": 3
   },
   "file_extension": ".py",
   "mimetype": "text/x-python",
   "name": "python",
   "nbconvert_exporter": "python",
   "pygments_lexer": "ipython3",
   "version": "3.8.5"
  }
 },
 "nbformat": 4,
 "nbformat_minor": 2
}
