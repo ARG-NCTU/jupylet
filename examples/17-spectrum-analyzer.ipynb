{
 "cells": [
  {
   "cell_type": "markdown",
   "metadata": {},
   "source": [
    "## Spectrum Analyzer\n",
    "\n",
    "Run this notebook and see what happens. "
   ]
  },
  {
   "cell_type": "code",
   "execution_count": null,
   "metadata": {},
   "outputs": [],
   "source": []
  },
  {
   "cell_type": "code",
   "execution_count": 43,
   "metadata": {},
   "outputs": [],
   "source": [
    "import functools\n",
    "import _thread\n",
    "import json\n",
    "import math\n",
    "import sys\n",
    "import io\n",
    "import os"
   ]
  },
  {
   "cell_type": "code",
   "execution_count": null,
   "metadata": {},
   "outputs": [],
   "source": []
  },
  {
   "cell_type": "code",
   "execution_count": 2,
   "metadata": {},
   "outputs": [],
   "source": [
    "sys.path.insert(0, os.path.abspath('./..'))"
   ]
  },
  {
   "cell_type": "code",
   "execution_count": null,
   "metadata": {},
   "outputs": [],
   "source": []
  },
  {
   "cell_type": "code",
   "execution_count": 3,
   "metadata": {},
   "outputs": [],
   "source": [
    "import jupylet.color\n",
    "\n",
    "from jupylet.app import App\n",
    "from jupylet.state import State\n",
    "from jupylet.label import Label\n",
    "from jupylet.sprite import Sprite\n",
    "from jupylet.shadertoy import Shadertoy, get_shadertoy_audio"
   ]
  },
  {
   "cell_type": "code",
   "execution_count": 4,
   "metadata": {},
   "outputs": [],
   "source": [
    "from jupylet.audio.bundle import *"
   ]
  },
  {
   "cell_type": "code",
   "execution_count": 5,
   "metadata": {},
   "outputs": [],
   "source": [
    "import numpy as np"
   ]
  },
  {
   "cell_type": "code",
   "execution_count": 6,
   "metadata": {},
   "outputs": [],
   "source": [
    "from scipy.interpolate import interp1d"
   ]
  },
  {
   "cell_type": "code",
   "execution_count": 7,
   "metadata": {},
   "outputs": [],
   "source": [
    "import matplotlib.pyplot as plt"
   ]
  },
  {
   "cell_type": "code",
   "execution_count": null,
   "metadata": {},
   "outputs": [],
   "source": []
  },
  {
   "cell_type": "code",
   "execution_count": 8,
   "metadata": {},
   "outputs": [],
   "source": [
    "%matplotlib inline"
   ]
  },
  {
   "cell_type": "code",
   "execution_count": null,
   "metadata": {},
   "outputs": [],
   "source": []
  },
  {
   "cell_type": "code",
   "execution_count": 9,
   "metadata": {},
   "outputs": [
    {
     "data": {
      "text/plain": [
       "  0 BlackHole 2ch, Core Audio (2 in, 2 out)\n",
       "> 1 MacBook Pro Microphone, Core Audio (1 in, 0 out)\n",
       "< 2 MacBook Pro Speakers, Core Audio (0 in, 2 out)"
      ]
     },
     "execution_count": 9,
     "metadata": {},
     "output_type": "execute_result"
    }
   ],
   "source": [
    "dl = sd.query_devices()\n",
    "dl"
   ]
  },
  {
   "cell_type": "code",
   "execution_count": 10,
   "metadata": {},
   "outputs": [
    {
     "data": {
      "text/plain": [
       "1"
      ]
     },
     "execution_count": 10,
     "metadata": {},
     "output_type": "execute_result"
    }
   ],
   "source": [
    "idi = sd.default.device['input']\n",
    "idi"
   ]
  },
  {
   "cell_type": "code",
   "execution_count": 11,
   "metadata": {},
   "outputs": [
    {
     "data": {
      "text/plain": [
       "{'name': 'MacBook Pro Microphone',\n",
       " 'index': 1,\n",
       " 'hostapi': 0,\n",
       " 'max_input_channels': 1,\n",
       " 'max_output_channels': 0,\n",
       " 'default_low_input_latency': 0.05285416666666667,\n",
       " 'default_low_output_latency': 0.01,\n",
       " 'default_high_input_latency': 0.0621875,\n",
       " 'default_high_output_latency': 0.1,\n",
       " 'default_samplerate': 48000.0}"
      ]
     },
     "execution_count": 11,
     "metadata": {},
     "output_type": "execute_result"
    }
   ],
   "source": [
    "dl[idi]"
   ]
  },
  {
   "cell_type": "code",
   "execution_count": 12,
   "metadata": {},
   "outputs": [
    {
     "data": {
      "text/plain": [
       "48000.0"
      ]
     },
     "execution_count": 12,
     "metadata": {},
     "output_type": "execute_result"
    }
   ],
   "source": [
    "sample_rate = dl[idi]['default_samplerate']\n",
    "sample_rate"
   ]
  },
  {
   "cell_type": "code",
   "execution_count": null,
   "metadata": {},
   "outputs": [],
   "source": []
  },
  {
   "cell_type": "code",
   "execution_count": 13,
   "metadata": {},
   "outputs": [],
   "source": [
    "state = State(\n",
    "    \n",
    "    up = False,\n",
    "    down = False,\n",
    "    left = False,\n",
    "    right = False,\n",
    "    shift = False,\n",
    "    \n",
    "    decay = 0.8,\n",
    "    samples = 4096, \n",
    "    \n",
    "    xmin = 100,\n",
    "    xmax = 20000,\n",
    "    ymin = -75,\n",
    "    ymax = 100,\n",
    ")"
   ]
  },
  {
   "cell_type": "code",
   "execution_count": null,
   "metadata": {},
   "outputs": [],
   "source": []
  },
  {
   "cell_type": "code",
   "execution_count": 14,
   "metadata": {},
   "outputs": [],
   "source": [
    "def implot(*args, xscale='log', xmin=None, xmax=None, ymin=None, ymax=None, figsize=(10, 5), **kwargs):\n",
    "    \n",
    "    buf = io.BytesIO()\n",
    "    \n",
    "    fig = plt.figure(figsize=figsize, dpi=100)\n",
    "    \n",
    "    ax0 = fig.add_subplot(111)\n",
    "    ax0.grid(True, which='both')\n",
    "    ax0.set_xscale(xscale)\n",
    "\n",
    "    if xmin or xmax:\n",
    "        ax0.set_xlim(xmin=xmin, xmax=xmax)\n",
    "\n",
    "    if ymin or ymax:\n",
    "        ax0.set_ylim(ymin=ymin, ymax=ymax)\n",
    "\n",
    "    pl0 = ax0.plot(*args, **kwargs)[0] # Returns a tuple of line objects, thus the comma\n",
    "    \n",
    "    #plt.subplots_adjust(right=0.5)\n",
    "    plt.savefig(buf, format='jpeg', bbox_inches='tight')\n",
    "    plt.close(fig)\n",
    "\n",
    "    return PIL.Image.open(buf)\n",
    "\n",
    "\n",
    "@functools.lru_cache(maxsize=64)\n",
    "def get_plot_frame(xmin=0, xmax=1000, ymin=-50, ymax=50, figsize=(12, 6), rgba=False):\n",
    "    \n",
    "    xx = np.arange(xmin, xmax)\n",
    "    im = implot(\n",
    "        xx, xx - 1e6, \n",
    "        xmin=xmin, xmax=xmax, ymin=ymin, ymax=ymax,\n",
    "        figsize=figsize\n",
    "    )\n",
    "    \n",
    "    if not rgba:\n",
    "        return im\n",
    "    \n",
    "    a0 = np.array(im)\n",
    "    a1 = np.concatenate((a0 * 0, 255 - a0[...,:1]), -1)\n",
    "\n",
    "    return PIL.Image.fromarray(a1)\n",
    "\n",
    "\n",
    "def get_plot_frame0():\n",
    "    \n",
    "    return get_plot_frame(\n",
    "        xmin=state.xmin, xmax=state.xmax, \n",
    "        ymin=state.ymin, ymax=state.ymax, \n",
    "        figsize=(12, 6),\n",
    "        rgba=True,\n",
    "    )"
   ]
  },
  {
   "cell_type": "code",
   "execution_count": null,
   "metadata": {},
   "outputs": [],
   "source": []
  },
  {
   "cell_type": "code",
   "execution_count": 15,
   "metadata": {},
   "outputs": [
    {
     "data": {
      "text/plain": [
       "(988, 515)"
      ]
     },
     "execution_count": 15,
     "metadata": {},
     "output_type": "execute_result"
    }
   ],
   "source": [
    "w, h = get_plot_frame0().size\n",
    "w, h"
   ]
  },
  {
   "cell_type": "code",
   "execution_count": 16,
   "metadata": {},
   "outputs": [],
   "source": [
    "app = App(width=w, height=h, quality=100)#, log_level=logging.INFO)"
   ]
  },
  {
   "cell_type": "code",
   "execution_count": null,
   "metadata": {},
   "outputs": [],
   "source": []
  },
  {
   "cell_type": "code",
   "execution_count": 17,
   "metadata": {},
   "outputs": [],
   "source": [
    "plot_frame = Sprite(get_plot_frame0(), x=w, anchor_x='right', anchor_y='bottom', collisions=False)"
   ]
  },
  {
   "cell_type": "code",
   "execution_count": 18,
   "metadata": {},
   "outputs": [],
   "source": [
    "label0 = Label('Use ← ↑ ↓ → SHIFT and SPACE to control the display', x=55, y=45, color='red')"
   ]
  },
  {
   "cell_type": "code",
   "execution_count": null,
   "metadata": {},
   "outputs": [],
   "source": []
  },
  {
   "cell_type": "markdown",
   "metadata": {},
   "source": [
    "### Default oscilloscope shader\n",
    "\n",
    "The code in the following cell is of a simple shadertoy shader that displays an audio spectrum. [Shadertoy shaders](http://shadertoy.com/) are an easy way to create graphic effects by programming the GPU directly:"
   ]
  },
  {
   "cell_type": "code",
   "execution_count": 19,
   "metadata": {},
   "outputs": [],
   "source": [
    "st0 = Shadertoy(\"\"\"\n",
    "\n",
    "    void mainImage( out vec4 fragColor, in vec2 fragCoord )\n",
    "    {\n",
    "        // Normalized pixel coordinates (from 0 to 1)\n",
    "        vec2 uv = fragCoord / iResolution.xy;\n",
    "\n",
    "        // Time varying pixel color\n",
    "        vec3 col = vec3(1., 1., 1.);\n",
    "\n",
    "        float dst = 1000.;\n",
    "        float dx0 = 0.00005;\n",
    "        float uvx = max(0, min(1, (uv.x - 0.05) / (0.99 - 0.05)));\n",
    "        \n",
    "        for (int i=0; i < 50; i++) {\n",
    "        \n",
    "            float dx1 = dx0 * (i - 25);\n",
    "            float dy1 = texture(iChannel0, vec2(uvx + dx1, 0.)).r - uv.y; \n",
    "            float dxy = dx1 * dx1 + dy1 * dy1;\n",
    "            \n",
    "            if (dxy < dst) {\n",
    "                dst = dxy;\n",
    "            }\n",
    "        }\n",
    "        \n",
    "        vec3 sig = vec3(0.00033 / max(32 * dst, 1e-6));\n",
    "\n",
    "        sig *= vec3(1., 1., 1.);\n",
    "\n",
    "        if (uv.x < 0.05) {\n",
    "            sig *= 0;\n",
    "        }\n",
    "        \n",
    "        if (uv.x > 0.99) {\n",
    "            sig *= 0;\n",
    "        }\n",
    "        \n",
    "        col -= sig;\n",
    "\n",
    "        // Output to screen\n",
    "        fragColor = vec4(col,1.0);\n",
    "    }\n",
    "    \n",
    "\"\"\", w, h, 0, h, 0, 'left', 'top')"
   ]
  },
  {
   "cell_type": "code",
   "execution_count": null,
   "metadata": {},
   "outputs": [],
   "source": []
  },
  {
   "cell_type": "code",
   "execution_count": 20,
   "metadata": {},
   "outputs": [],
   "source": [
    "def clip(a, low=-math.inf, high=math.inf):\n",
    "    return min(max(a, low), high)\n",
    "\n",
    "\n",
    "XMIN = 60\n",
    "XMAX = 20000\n",
    "\n",
    "def trans_x(tx):\n",
    "    \n",
    "    m0 = clip(XMIN / state.xmin, 0, 1)\n",
    "    m1 = clip(XMAX / state.xmax, 1, 2)\n",
    "    \n",
    "    state.xmin *= clip(tx, m0, m1) \n",
    "    state.xmax *= clip(tx, m0, m1) \n",
    "    \n",
    "    \n",
    "def scale_x(sx):\n",
    "    \n",
    "    mid0 = (state.xmax + state.xmin) / 2 - 500\n",
    "    mid1 = (state.xmax + state.xmin) / 2 + 500\n",
    "    \n",
    "    m0 = clip(XMIN / state.xmin, 0, 1)\n",
    "    m1 = clip(mid0 / state.xmin, 1, 2)\n",
    "    m2 = clip(mid1 / state.xmax, 0, 1)\n",
    "    m3 = clip(XMAX / state.xmax, 1, 2)\n",
    "    \n",
    "    state.xmin *= clip(sx, m0, m1) \n",
    "    state.xmax *= clip(1/sx, m2, m3) \n",
    "    \n",
    "    \n",
    "YMIN = -95\n",
    "YMAX = 150\n",
    "\n",
    "\n",
    "def trans_y(ty):\n",
    "    \n",
    "    m0 = clip(YMIN - state.ymin, -99, 0)\n",
    "    m1 = clip(YMAX - state.ymax, 0, 100)\n",
    "    \n",
    "    hh = state.ymax - state.ymin\n",
    "    \n",
    "    state.ymin += clip(ty, m0, m1) * hh / 16\n",
    "    state.ymax += clip(ty, m0, m1) * hh / 16\n",
    "    \n",
    "    \n",
    "def scale_y(sy):\n",
    "    \n",
    "    mid0 = (state.ymax + state.ymin) / 2 - 10\n",
    "    mid1 = (state.ymax + state.ymin) / 2 + 10\n",
    "    diff = (state.ymax - state.ymin)\n",
    "    \n",
    "    m0 = clip(YMIN - state.ymin, -99, 0)\n",
    "    m1 = clip(mid0 - state.ymin, 0, 100)\n",
    "    m2 = clip(mid1 - state.ymax, -99, 0)\n",
    "    m3 = clip(YMAX - state.ymax, 0, 100)\n",
    "    \n",
    "    state.ymin += clip(-sy, m0, m1) * diff / 16\n",
    "    state.ymax += clip(sy, m2, m3) * diff / 16\n",
    "    \n",
    "    \n",
    "def reset_xy():\n",
    "    \n",
    "    state.xmin = 100\n",
    "    state.xmax = 20000\n",
    "    \n",
    "    state.ymin = -75\n",
    "    state.ymax = 100"
   ]
  },
  {
   "cell_type": "code",
   "execution_count": null,
   "metadata": {},
   "outputs": [],
   "source": []
  },
  {
   "cell_type": "code",
   "execution_count": 21,
   "metadata": {},
   "outputs": [],
   "source": [
    "@app.event\n",
    "def key_event(key, action, modifiers):\n",
    "    logger.info('Enter key_event(key=%r, action=%r, modifiers=%r).', key, action, modifiers)\n",
    "    \n",
    "    keys = app.window.keys\n",
    "\n",
    "    value = action == keys.ACTION_PRESS\n",
    "    \n",
    "    state.shift = modifiers.shift\n",
    "        \n",
    "    if key == keys.SPACE:\n",
    "        reset_xy()\n",
    "        \n",
    "    if key == keys.UP:\n",
    "        state.up = value\n",
    "        \n",
    "    if key == keys.DOWN:\n",
    "        state.down = value\n",
    "        \n",
    "    if key == keys.LEFT:\n",
    "        state.left = value\n",
    "        \n",
    "    if key == keys.RIGHT:\n",
    "        state.right = value"
   ]
  },
  {
   "cell_type": "code",
   "execution_count": null,
   "metadata": {},
   "outputs": [],
   "source": []
  },
  {
   "cell_type": "code",
   "execution_count": 22,
   "metadata": {},
   "outputs": [],
   "source": [
    "@app.run_me_every(1/10)\n",
    "def modify_display(ct, dt):\n",
    "    \n",
    "    d = -1 if state.shift else 1\n",
    "    s = 2 ** dt\n",
    "        \n",
    "    if  state.shift:\n",
    "        \n",
    "        if state.up:\n",
    "            scale_y(-s)\n",
    "\n",
    "        if state.down:\n",
    "            scale_y(s)\n",
    "\n",
    "        if state.right:\n",
    "            scale_x(s)\n",
    "\n",
    "        if state.left:\n",
    "            scale_x(1 / s)\n",
    "\n",
    "    else:\n",
    "        \n",
    "        if state.left:\n",
    "            trans_x(1 / s)\n",
    "\n",
    "        if state.right:\n",
    "            trans_x(s)\n",
    "\n",
    "        if state.down:\n",
    "            trans_y(s)\n",
    "\n",
    "        if state.up:\n",
    "            trans_y(-s)\n"
   ]
  },
  {
   "cell_type": "code",
   "execution_count": null,
   "metadata": {},
   "outputs": [],
   "source": []
  },
  {
   "cell_type": "code",
   "execution_count": 23,
   "metadata": {},
   "outputs": [],
   "source": [
    "def resample_logx(data, num=None):\n",
    "    \n",
    "    assert data.ndim == 1\n",
    "    \n",
    "    num = num or data.size\n",
    "    \n",
    "    x1 = np.exp(np.linspace(0, np.log(data.size), num)) - 1\n",
    "    x2 = x1.astype('long')\n",
    "    \n",
    "    xx = 1 - x1 + x2\n",
    "\n",
    "    return data[x2] * xx + data[(x2 + 1).clip(0, data.size-1)] * (1 - xx)"
   ]
  },
  {
   "cell_type": "code",
   "execution_count": 24,
   "metadata": {},
   "outputs": [],
   "source": [
    "def resample_logx2(data, num=None):\n",
    "    \n",
    "    assert data.ndim == 1\n",
    "    \n",
    "    num = num or data.size\n",
    "    \n",
    "    x1 = np.exp(np.linspace(0, np.log(data.size), num)) - 1\n",
    "    x2 = x1.astype('long')\n",
    "    \n",
    "    xx = 1 - x1 + x2\n",
    "    xx = data[x2] * xx + data[(x2 + 1).clip(0, data.size-1)] * (1 - xx)\n",
    "    \n",
    "    idx3 = ((x2[1:] - x2[:-1]) < 2).sum()\n",
    "    \n",
    "    if idx3 >= len(x2) - 16:\n",
    "        return xx\n",
    "    \n",
    "    x3 = x2[idx3:]\n",
    "    \n",
    "    p0 = np.pad(x3[1:] - x3[:-1], (1, 1)) / 2\n",
    "\n",
    "    xa = np.ceil(x3 - p0[:-1])[:,None].astype('long')\n",
    "    xb = np.ceil(x3 + p0[1: ])[:,None].astype('long')\n",
    "\n",
    "    md = (xb - xa).max()\n",
    "    ar = np.arange(md)[None,:] / (md - 1)\n",
    "    \n",
    "    xe = (xb - xa) * ar + xa\n",
    "    xi = xe.astype('long')\n",
    "\n",
    "    xz = np.take(data, xi).max(-1)\n",
    "    \n",
    "    xx[idx3:] = xz\n",
    "    \n",
    "    return xx"
   ]
  },
  {
   "cell_type": "code",
   "execution_count": null,
   "metadata": {},
   "outputs": [],
   "source": []
  },
  {
   "cell_type": "code",
   "execution_count": 25,
   "metadata": {},
   "outputs": [],
   "source": [
    "data0 = []\n",
    "data1 = None\n",
    "dataz = None"
   ]
  },
  {
   "cell_type": "code",
   "execution_count": null,
   "metadata": {},
   "outputs": [],
   "source": []
  },
  {
   "cell_type": "code",
   "execution_count": 26,
   "metadata": {},
   "outputs": [],
   "source": [
    "def callback(indata, frames, time, status):\n",
    "\n",
    "    global data0, data1, dataz\n",
    "\n",
    "    data0.append(indata[:,0].astype('float'))\n",
    "\n",
    "    if len(data0) > 24:\n",
    "        data0.pop(0)\n",
    "\n",
    "    datax = np.concatenate(data0)[-state.samples:]\n",
    "        \n",
    "    a0 = np.fft.rfft(datax)\n",
    "    a5 = a0.conj() * a0\n",
    "    a6 = 5 * np.log(a5.real + 1e-6)\n",
    "\n",
    "    if dataz is None or dataz.shape != a6.shape:\n",
    "        dataz = a6\n",
    "    else:\n",
    "        dataz = dataz * state.decay + a6 * (1 - state.decay)\n",
    "        \n",
    "    a6 = dataz\n",
    "    f0 = np.fft.rfftfreq(len(datax), 1 / sample_rate)\n",
    "\n",
    "    a7 = resample_logx2(a6, 1024)\n",
    "    f1 = resample_logx(f0, 1024)\n",
    "\n",
    "    x0 = (f1 < state.xmin).sum()\n",
    "    x1 = (f1 < state.xmax).sum()\n",
    "\n",
    "    data1 = a7[x0:x1].clip(state.ymin, state.ymax)   \n",
    "\n",
    "\n",
    "async def input_worker():\n",
    "    \n",
    "    with sd.InputStream(\n",
    "        device=idi, channels=1, \n",
    "        callback=callback,\n",
    "        blocksize=2048,\n",
    "        #latency='low',\n",
    "        #samplerate=sample_rate,\n",
    "    ):\n",
    "        while True:\n",
    "            await asyncio.sleep(1.)"
   ]
  },
  {
   "cell_type": "code",
   "execution_count": 27,
   "metadata": {},
   "outputs": [],
   "source": [
    "task = asyncio.get_event_loop().create_task(input_worker())"
   ]
  },
  {
   "cell_type": "code",
   "execution_count": 28,
   "metadata": {},
   "outputs": [],
   "source": [
    "#task.cancel()"
   ]
  },
  {
   "cell_type": "code",
   "execution_count": null,
   "metadata": {},
   "outputs": [],
   "source": []
  },
  {
   "cell_type": "code",
   "execution_count": 29,
   "metadata": {},
   "outputs": [],
   "source": [
    "frame_bot = 19\n",
    "frame_top = 247"
   ]
  },
  {
   "cell_type": "code",
   "execution_count": 30,
   "metadata": {},
   "outputs": [],
   "source": [
    "@app.event\n",
    "def render(ct, dt):\n",
    "    \n",
    "    app.window.clear()\n",
    "    \n",
    "    if data1 is not None:\n",
    "        \n",
    "        data2 = (data1 - state.ymin) / (state.ymax - state.ymin)\n",
    "        data2 = data2 * (frame_top - frame_bot) + frame_bot\n",
    "        #data2 = (np.pad(data2, (36, 6))) \n",
    "        \n",
    "        st0.set_channel(0, np.stack((data2, data2)), ct)   \n",
    "        st0.render(ct, dt)\n",
    "     \n",
    "    plot_frame.image = get_plot_frame0()\n",
    "    plot_frame.draw()\n",
    "    \n",
    "    label0.draw()"
   ]
  },
  {
   "cell_type": "code",
   "execution_count": null,
   "metadata": {},
   "outputs": [],
   "source": []
  },
  {
   "cell_type": "code",
   "execution_count": 31,
   "metadata": {},
   "outputs": [],
   "source": [
    "#app.get_logging_widget()"
   ]
  },
  {
   "cell_type": "code",
   "execution_count": 32,
   "metadata": {},
   "outputs": [
    {
     "data": {
      "application/vnd.jupyter.widget-view+json": {
       "model_id": "b6670981abea4051b79e02acd009c227",
       "version_major": 2,
       "version_minor": 0
      },
      "text/plain": [
       "Image(value=b'\\xff\\xd8\\xff\\xe0\\x00\\x10JFIF\\x00\\x01\\x01\\x00\\x00\\x01\\x00\\x01\\x00\\x00\\xff\\xdb\\x00C\\x00\\x08\\x06\\x0…"
      ]
     },
     "execution_count": 32,
     "metadata": {},
     "output_type": "execute_result"
    }
   ],
   "source": [
    "app.run()"
   ]
  },
  {
   "cell_type": "code",
   "execution_count": null,
   "metadata": {},
   "outputs": [],
   "source": []
  },
  {
   "cell_type": "code",
   "execution_count": 34,
   "metadata": {},
   "outputs": [],
   "source": [
    "#osc = Noise('white')"
   ]
  },
  {
   "cell_type": "code",
   "execution_count": 35,
   "metadata": {},
   "outputs": [],
   "source": [
    "#sd.play(osc(frames=44100*8))"
   ]
  },
  {
   "cell_type": "code",
   "execution_count": null,
   "metadata": {},
   "outputs": [],
   "source": []
  },
  {
   "cell_type": "code",
   "execution_count": 36,
   "metadata": {},
   "outputs": [],
   "source": [
    "synth = TB303(resonance=8, decay=1, cutoff=12, amp=1)"
   ]
  },
  {
   "cell_type": "code",
   "execution_count": 37,
   "metadata": {},
   "outputs": [],
   "source": [
    "synth.env0.sustain = 0.\n",
    "synth.env0.decay = 6."
   ]
  },
  {
   "cell_type": "code",
   "execution_count": 38,
   "metadata": {},
   "outputs": [],
   "source": [
    "synth.play(C4, 6)"
   ]
  },
  {
   "cell_type": "code",
   "execution_count": null,
   "metadata": {},
   "outputs": [],
   "source": []
  }
 ],
 "metadata": {
  "kernelspec": {
   "display_name": "Python 3 (ipykernel)",
   "language": "python",
   "name": "python3"
  },
  "language_info": {
   "codemirror_mode": {
    "name": "ipython",
    "version": 3
   },
   "file_extension": ".py",
   "mimetype": "text/x-python",
   "name": "python",
   "nbconvert_exporter": "python",
   "pygments_lexer": "ipython3",
   "version": "3.11.0"
  }
 },
 "nbformat": 4,
 "nbformat_minor": 2
}
