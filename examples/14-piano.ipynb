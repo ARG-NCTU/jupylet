{
 "cells": [
  {
   "cell_type": "markdown",
   "metadata": {},
   "source": [
    "### Piano\n",
    "\n",
    "Run this notebook and see what happens. \n",
    "\n",
    "Click the game canvas once it shows up to bring it into focus.\n",
    "\n",
    "* Keyboard image was adapted from [jack-keyboard](http://jack-keyboard.sourceforge.net/)."
   ]
  },
  {
   "cell_type": "code",
   "execution_count": 1,
   "metadata": {},
   "outputs": [],
   "source": [
    "# Creative Commons sound samples:\n",
    "# http://wiki.laptop.org/go/Sound_samples\n",
    "# https://freepats.zenvoid.org/"
   ]
  },
  {
   "cell_type": "code",
   "execution_count": null,
   "metadata": {},
   "outputs": [],
   "source": []
  },
  {
   "cell_type": "code",
   "execution_count": 2,
   "metadata": {},
   "outputs": [],
   "source": [
    "import logging\n",
    "import rtmidi\n",
    "import mido\n",
    "import sys\n",
    "import os\n",
    "\n",
    "import numpy as np"
   ]
  },
  {
   "cell_type": "code",
   "execution_count": 3,
   "metadata": {},
   "outputs": [],
   "source": [
    "sys.path.insert(0, os.path.abspath('./..'))"
   ]
  },
  {
   "cell_type": "code",
   "execution_count": 4,
   "metadata": {},
   "outputs": [],
   "source": [
    "import jupylet.color\n",
    "\n",
    "from jupylet.app import App\n",
    "from jupylet.sound import Sample, Synth, get_oscilloscope_as_image\n",
    "from jupylet.sound import use, play, sleep\n",
    "from jupylet.state import State\n",
    "from jupylet.label import Label\n",
    "from jupylet.sprite import Sprite"
   ]
  },
  {
   "cell_type": "code",
   "execution_count": null,
   "metadata": {},
   "outputs": [],
   "source": []
  },
  {
   "cell_type": "code",
   "execution_count": 5,
   "metadata": {},
   "outputs": [],
   "source": [
    "logger = logging.getLogger()"
   ]
  },
  {
   "cell_type": "code",
   "execution_count": null,
   "metadata": {},
   "outputs": [],
   "source": []
  },
  {
   "cell_type": "code",
   "execution_count": 6,
   "metadata": {},
   "outputs": [],
   "source": [
    "app = App(width=512, height=420)#, log_level=logging.INFO)"
   ]
  },
  {
   "cell_type": "code",
   "execution_count": 7,
   "metadata": {},
   "outputs": [],
   "source": [
    "a0 = np.zeros((256, 512, 4), 'uint8')"
   ]
  },
  {
   "cell_type": "code",
   "execution_count": 8,
   "metadata": {},
   "outputs": [],
   "source": [
    "oscilloscope = Sprite(a0, x=256, y=292)"
   ]
  },
  {
   "cell_type": "code",
   "execution_count": 9,
   "metadata": {},
   "outputs": [],
   "source": [
    "layout = Sprite('images/keyboard.png', x=256, y=82, scale=0.5)"
   ]
  },
  {
   "cell_type": "code",
   "execution_count": null,
   "metadata": {},
   "outputs": [],
   "source": []
  },
  {
   "cell_type": "code",
   "execution_count": 10,
   "metadata": {},
   "outputs": [],
   "source": [
    "synth = Synth()"
   ]
  },
  {
   "cell_type": "code",
   "execution_count": 11,
   "metadata": {},
   "outputs": [],
   "source": [
    "#synth.set_envelope(min_duration=0.05, attack=0.0, decay=0.1, sustain=0.7, release=0.5)"
   ]
  },
  {
   "cell_type": "code",
   "execution_count": null,
   "metadata": {},
   "outputs": [],
   "source": []
  },
  {
   "cell_type": "code",
   "execution_count": 12,
   "metadata": {},
   "outputs": [],
   "source": [
    "keys = app.window.keys\n",
    "\n",
    "keyboard = {\n",
    "\n",
    "    keys.Z: 'C',\n",
    "    keys.S: 'Cs',\n",
    "    keys.X: 'D',\n",
    "    keys.D: 'Ds',\n",
    "    keys.C: 'E',\n",
    "    keys.V: 'F',\n",
    "    keys.G: 'Fs',\n",
    "    keys.B: 'G',\n",
    "    keys.H: 'Gs',\n",
    "    keys.N: 'A',\n",
    "    keys.J: 'As',\n",
    "    keys.M: 'B',\n",
    "\n",
    "    keys.Q: 'C5',\n",
    "    50: 'Cs5',\n",
    "    keys.W: 'D5',\n",
    "    51: 'Ds5',\n",
    "    keys.E: 'E5',\n",
    "    keys.R: 'F5',\n",
    "    53: 'Fs5',\n",
    "    keys.T: 'G5',\n",
    "    54: 'Gs5',\n",
    "    keys.Y: 'A5',\n",
    "    55: 'As5',\n",
    "    keys.U: 'B5',\n",
    "\n",
    "    keys.I: 'C6',\n",
    "    keys.NUMBER_9: 'Cs6',\n",
    "    keys.O: 'D6',\n",
    "    48: 'Ds6',\n",
    "    keys.P: 'E6',\n",
    "}"
   ]
  },
  {
   "cell_type": "code",
   "execution_count": null,
   "metadata": {},
   "outputs": [],
   "source": []
  },
  {
   "cell_type": "code",
   "execution_count": 13,
   "metadata": {},
   "outputs": [],
   "source": [
    "state = State(\n",
    "    \n",
    "    amp = 1.,\n",
    "    ms = 50.,\n",
    "    \n",
    "    up = False,\n",
    "    down = False,\n",
    "    left = False,\n",
    "    right = False,\n",
    ")"
   ]
  },
  {
   "cell_type": "code",
   "execution_count": 14,
   "metadata": {},
   "outputs": [],
   "source": [
    "label0 = Label('amp: %.1f' % state.amp, x=10, y=194)\n",
    "label1 = Label('span: %.1f ms' % state.ms, x=10, y=174)\n",
    "label2 = Label('use ← → ↑ ↓ to modify', anchor_x='right', x=app.width - 10, y=174)"
   ]
  },
  {
   "cell_type": "code",
   "execution_count": 15,
   "metadata": {},
   "outputs": [],
   "source": [
    "pk = {}"
   ]
  },
  {
   "cell_type": "code",
   "execution_count": 16,
   "metadata": {},
   "outputs": [],
   "source": [
    "@app.event\n",
    "def key_event(key, action, modifiers):\n",
    "            \n",
    "    keys = app.window.keys\n",
    "    value = action == keys.ACTION_PRESS\n",
    "\n",
    "    if key == keys.UP:\n",
    "        state.up = value\n",
    "\n",
    "    if key == keys.DOWN:\n",
    "        state.down = value\n",
    "\n",
    "    if key == keys.RIGHT:\n",
    "        state.right = value\n",
    "\n",
    "    if key == keys.LEFT:\n",
    "        state.left = value\n",
    "        \n",
    "    if action == keys.ACTION_PRESS and key in keyboard:\n",
    "        assert key not in pk\n",
    "        pk[key] = synth.play_new(note=keyboard[key])\n",
    "        \n",
    "    if action == keys.ACTION_RELEASE and key in keyboard:\n",
    "        pk.pop(key).play_release()"
   ]
  },
  {
   "cell_type": "code",
   "execution_count": 17,
   "metadata": {},
   "outputs": [],
   "source": [
    "@app.run_me_every(1/24)\n",
    "def modify_oscilloscope(ct, dt):\n",
    "    \n",
    "    s = 2 ** dt\n",
    "    \n",
    "    if state.up:\n",
    "        state.amp *= s\n",
    "        label0.text = 'amp: %.1f' % state.amp\n",
    "\n",
    "    if state.down:\n",
    "        state.amp /= s\n",
    "        label0.text = 'amp: %.1f' % state.amp\n",
    "\n",
    "    if state.right:\n",
    "        state.ms *= s\n",
    "        state.ms = min(256, state.ms)\n",
    "        label1.text = 'span: %.1f ms' % state.ms\n",
    "\n",
    "    if state.left:\n",
    "        state.ms /= s\n",
    "        label1.text = 'span: %.1f ms' % state.ms"
   ]
  },
  {
   "cell_type": "code",
   "execution_count": 18,
   "metadata": {},
   "outputs": [],
   "source": [
    "@app.event\n",
    "def render(ct, dt):\n",
    "    \n",
    "    app.window.clear(color='#555')\n",
    "    \n",
    "    im, ts, te = get_oscilloscope_as_image(\n",
    "        1/app.interval,\n",
    "        ms=state.ms, \n",
    "        amp=state.amp, \n",
    "        color=255, \n",
    "        size=(512, 256)\n",
    "    )\n",
    "    \n",
    "    oscilloscope.image = im    \n",
    "    oscilloscope.draw()\n",
    "    \n",
    "    layout.draw()\n",
    "    \n",
    "    label0.draw()\n",
    "    label1.draw()\n",
    "    label2.draw()"
   ]
  },
  {
   "cell_type": "code",
   "execution_count": null,
   "metadata": {},
   "outputs": [],
   "source": []
  },
  {
   "cell_type": "code",
   "execution_count": 19,
   "metadata": {},
   "outputs": [],
   "source": [
    "xylo = Sample('sounds/VCSL/Xylophone/Xylophone - Medium Mallets.sfz')\n",
    "xylo.amp = 8"
   ]
  },
  {
   "cell_type": "code",
   "execution_count": 20,
   "metadata": {},
   "outputs": [],
   "source": [
    "_keyd = {}"
   ]
  },
  {
   "cell_type": "code",
   "execution_count": 30,
   "metadata": {},
   "outputs": [],
   "source": [
    "@app.event\n",
    "def midi_message(msg):\n",
    "    \n",
    "    if msg.type == 'note_on':\n",
    "        \n",
    "        if msg.velocity != 0:\n",
    "            _keyd[msg.note] = xylo.play_new(key=msg.note, velocity=msg.velocity)\n",
    "            \n",
    "        elif msg.note in _keyd:\n",
    "            _keyd[msg.note].play_release()"
   ]
  },
  {
   "cell_type": "code",
   "execution_count": null,
   "metadata": {},
   "outputs": [],
   "source": []
  },
  {
   "cell_type": "code",
   "execution_count": 22,
   "metadata": {},
   "outputs": [],
   "source": [
    "#app.get_logging_widget()"
   ]
  },
  {
   "cell_type": "code",
   "execution_count": 23,
   "metadata": {
    "scrolled": false
   },
   "outputs": [
    {
     "data": {
      "application/vnd.jupyter.widget-view+json": {
       "model_id": "7f813cc71d714880991e466ff73ff72e",
       "version_major": 2,
       "version_minor": 0
      },
      "text/plain": [
       "Image(value=b'\\xff\\xd8\\xff\\xe0\\x00\\x10JFIF\\x00\\x01\\x01\\x00\\x00\\x01\\x00\\x01\\x00\\x00\\xff\\xdb\\x00C\\x00\\x08\\x06\\x0…"
      ]
     },
     "metadata": {},
     "output_type": "display_data"
    }
   ],
   "source": [
    "app.run()"
   ]
  },
  {
   "cell_type": "code",
   "execution_count": 24,
   "metadata": {},
   "outputs": [],
   "source": [
    "#\n",
    "# Uncomment and run to change sound volume:\n",
    "#\n",
    "#synth.amp = 0.2\n",
    "#"
   ]
  },
  {
   "cell_type": "code",
   "execution_count": null,
   "metadata": {},
   "outputs": [],
   "source": []
  },
  {
   "cell_type": "code",
   "execution_count": 22,
   "metadata": {},
   "outputs": [],
   "source": [
    "from jupylet.sound import note"
   ]
  },
  {
   "cell_type": "code",
   "execution_count": 23,
   "metadata": {},
   "outputs": [],
   "source": [
    "@app.sonic_live_loop(times=10)\n",
    "async def loop0():\n",
    "            \n",
    "    use(synth, duration=1.7, shape='saw', amp=0.4)\n",
    "\n",
    "    play('C2')\n",
    "    await sleep(3.)\n",
    "\n",
    "    play('E2')\n",
    "    await sleep(3.)\n",
    "\n",
    "    play('C2')\n",
    "    await sleep(6.)\n"
   ]
  },
  {
   "cell_type": "code",
   "execution_count": 24,
   "metadata": {},
   "outputs": [],
   "source": [
    "@app.sonic_live_loop\n",
    "async def loop1():\n",
    "    \n",
    "    use(synth, amp=0.3)\n",
    "        \n",
    "    play(note.C5)\n",
    "    await sleep(1.)\n",
    "\n",
    "    play(note.E5)\n",
    "    await sleep(1.)\n",
    "\n",
    "    play(note.G5)\n",
    "    await sleep(1.)"
   ]
  },
  {
   "cell_type": "code",
   "execution_count": null,
   "metadata": {},
   "outputs": [],
   "source": []
  },
  {
   "cell_type": "code",
   "execution_count": null,
   "metadata": {},
   "outputs": [],
   "source": [
    "#\n",
    "# Uncomment and run to stop the live loops.\n",
    "#\n",
    "#app.stop(loop0)\n",
    "#app.stop(loop1)\n",
    "#"
   ]
  },
  {
   "cell_type": "code",
   "execution_count": null,
   "metadata": {},
   "outputs": [],
   "source": []
  }
 ],
 "metadata": {
  "kernelspec": {
   "display_name": "Python 3",
   "language": "python",
   "name": "python3"
  },
  "language_info": {
   "codemirror_mode": {
    "name": "ipython",
    "version": 3
   },
   "file_extension": ".py",
   "mimetype": "text/x-python",
   "name": "python",
   "nbconvert_exporter": "python",
   "pygments_lexer": "ipython3",
   "version": "3.8.5"
  }
 },
 "nbformat": 4,
 "nbformat_minor": 2
}
