{
 "cells": [
  {
   "cell_type": "markdown",
   "metadata": {},
   "source": [
    "### Pong\n",
    "\n",
    "Run this notebook and see what happens. \n",
    "\n",
    "Click the game canvas once it shows up to bring it into focus and then use the arrows and keys A and D to control the pedals.\n",
    "\n",
    "* pong sound is by [freesound](https://freesound.org/people/NoiseCollector/sounds/4359/).\n",
    "* Commodore 64 font is by [KreativeKorp](https://www.kreativekorp.com/software/fonts/c64.shtml)."
   ]
  },
  {
   "cell_type": "code",
   "execution_count": null,
   "metadata": {},
   "outputs": [],
   "source": []
  },
  {
   "cell_type": "code",
   "execution_count": 1,
   "metadata": {},
   "outputs": [],
   "source": [
    "import pyglet\n",
    "import math\n",
    "import time\n",
    "import sys\n",
    "import os\n",
    "\n",
    "import PIL.Image\n",
    "\n",
    "import numpy as np"
   ]
  },
  {
   "cell_type": "code",
   "execution_count": 2,
   "metadata": {},
   "outputs": [],
   "source": [
    "p0 = os.path.abspath('.')\n",
    "p1 = os.path.abspath(os.path.join(p0, '..'))\n",
    "\n",
    "sys.path.insert(0, p1)"
   ]
  },
  {
   "cell_type": "code",
   "execution_count": 3,
   "metadata": {},
   "outputs": [],
   "source": [
    "import jupylet.color\n",
    "\n",
    "from jupylet.app import App\n",
    "from jupylet.label import Label\n",
    "from jupylet.sprite import Sprite"
   ]
  },
  {
   "cell_type": "code",
   "execution_count": 4,
   "metadata": {},
   "outputs": [],
   "source": [
    "import pyglet.window.key as key"
   ]
  },
  {
   "cell_type": "code",
   "execution_count": null,
   "metadata": {},
   "outputs": [],
   "source": []
  },
  {
   "cell_type": "code",
   "execution_count": 5,
   "metadata": {},
   "outputs": [],
   "source": [
    "app = App(mode='jupyter')"
   ]
  },
  {
   "cell_type": "code",
   "execution_count": 6,
   "metadata": {},
   "outputs": [],
   "source": [
    "window = app.window"
   ]
  },
  {
   "cell_type": "code",
   "execution_count": 7,
   "metadata": {},
   "outputs": [],
   "source": [
    "WIDTH = app.width\n",
    "HEIGHT = app.height"
   ]
  },
  {
   "cell_type": "code",
   "execution_count": null,
   "metadata": {},
   "outputs": [],
   "source": []
  },
  {
   "cell_type": "code",
   "execution_count": 8,
   "metadata": {},
   "outputs": [],
   "source": [
    "background = '#3e32a2'\n",
    "foreground = '#7c71da'"
   ]
  },
  {
   "cell_type": "code",
   "execution_count": 9,
   "metadata": {},
   "outputs": [],
   "source": [
    "app.set_window_color(foreground)"
   ]
  },
  {
   "cell_type": "code",
   "execution_count": null,
   "metadata": {},
   "outputs": [],
   "source": []
  },
  {
   "cell_type": "code",
   "execution_count": 10,
   "metadata": {},
   "outputs": [],
   "source": [
    "a0 = np.ones((32, 32)) * 255\n",
    "a1 = np.ones((128, 16)) * 255\n",
    "a2 = np.ones((HEIGHT * 9 // 10, WIDTH * 9 // 10, 3)) * jupylet.color.color2rgb(background)[:3]"
   ]
  },
  {
   "cell_type": "code",
   "execution_count": 11,
   "metadata": {},
   "outputs": [],
   "source": [
    "ball = Sprite(a0, y=HEIGHT/2, x=WIDTH/2, autocrop=True)\n",
    "\n",
    "padl = Sprite(a1, y=HEIGHT/2, x=48)\n",
    "padr = Sprite(a1, y=HEIGHT/2, x=WIDTH-48)\n",
    "\n",
    "field = Sprite(a2, y=HEIGHT/2, x=WIDTH/2) "
   ]
  },
  {
   "cell_type": "code",
   "execution_count": 12,
   "metadata": {},
   "outputs": [],
   "source": [
    "sound = pyglet.media.load('sounds/pong-blip.wav', streaming=False)"
   ]
  },
  {
   "cell_type": "code",
   "execution_count": null,
   "metadata": {},
   "outputs": [],
   "source": []
  },
  {
   "cell_type": "code",
   "execution_count": 13,
   "metadata": {},
   "outputs": [],
   "source": [
    "pyglet.font.add_file('fonts/PetMe64.ttf')"
   ]
  },
  {
   "cell_type": "code",
   "execution_count": 14,
   "metadata": {},
   "outputs": [],
   "source": [
    "scorel = Label(\n",
    "    '0', font_name='Pet Me 64', font_size=42, color=foreground, \n",
    "    x=64, y=HEIGHT/2, anchor_y='center', anchor_x='left'\n",
    ")\n",
    "\n",
    "scorer = Label(\n",
    "    '0', font_name='Pet Me 64', font_size=42, color=foreground, \n",
    "    x=WIDTH-64, y=HEIGHT/2, anchor_y='center', anchor_x='right'\n",
    ")"
   ]
  },
  {
   "cell_type": "code",
   "execution_count": null,
   "metadata": {},
   "outputs": [],
   "source": []
  },
  {
   "cell_type": "code",
   "execution_count": 15,
   "metadata": {},
   "outputs": [],
   "source": [
    "sl = 0\n",
    "sr = 0"
   ]
  },
  {
   "cell_type": "code",
   "execution_count": 16,
   "metadata": {},
   "outputs": [],
   "source": [
    "@app.event\n",
    "def on_draw():\n",
    "    \n",
    "    window.clear()\n",
    "    \n",
    "    field.draw()\n",
    "    \n",
    "    scorel.draw()\n",
    "    scorer.draw()\n",
    "    \n",
    "    ball.draw()\n",
    "    padl.draw()\n",
    "    padr.draw()"
   ]
  },
  {
   "cell_type": "code",
   "execution_count": null,
   "metadata": {},
   "outputs": [],
   "source": []
  },
  {
   "cell_type": "code",
   "execution_count": 17,
   "metadata": {},
   "outputs": [],
   "source": [
    "vyl = 0\n",
    "pyl = HEIGHT/2\n",
    "\n",
    "vyr = 0\n",
    "pyr = HEIGHT/2\n",
    "\n",
    "left = False\n",
    "right = False\n",
    "\n",
    "key_a = False\n",
    "key_d = False"
   ]
  },
  {
   "cell_type": "code",
   "execution_count": 18,
   "metadata": {},
   "outputs": [],
   "source": [
    "@app.event\n",
    "def on_key_press(symbol, modifiers):\n",
    "    \n",
    "    global left, right, key_a, key_d\n",
    "    \n",
    "    if symbol == key.LEFT:\n",
    "        left = True\n",
    "        \n",
    "    if symbol == key.RIGHT:\n",
    "        right = True\n",
    "        \n",
    "    if symbol == key.A:\n",
    "        key_a = True\n",
    "        \n",
    "    if symbol == key.D:\n",
    "        key_d = True\n",
    "        \n",
    "\n",
    "@app.event\n",
    "def on_key_release(symbol, modifiers):\n",
    "    \n",
    "    global left, right, key_a, key_d\n",
    "    \n",
    "    if symbol == key.LEFT:\n",
    "        left = False\n",
    "        \n",
    "    if symbol == key.RIGHT:\n",
    "        right = False\n",
    "\n",
    "    if symbol == key.A:\n",
    "        key_a = False\n",
    "        \n",
    "    if symbol == key.D:\n",
    "        key_d = False\n",
    "        \n",
    "\n",
    "@app.run_me_again_and_again(1/120)\n",
    "def update_pads(dt):\n",
    "    \n",
    "    global vyl, vyr, pyl, pyr\n",
    "    \n",
    "    if right:\n",
    "        pyr = min(HEIGHT, pyr + dt * 512)\n",
    "        \n",
    "    if left:\n",
    "        pyr = max(0, pyr - dt * 512)\n",
    "        \n",
    "    if key_a:\n",
    "        pyl = min(HEIGHT, pyl + dt * 512)\n",
    "        \n",
    "    if key_d:\n",
    "        pyl = max(0, pyl - dt * 512)\n",
    "        \n",
    "    ayl = 200 * (pyl - padl.y)\n",
    "    vyl = vyl * 0.9 + (ayl * dt)\n",
    "    \n",
    "    ayr = 200 * (pyr - padr.y)\n",
    "    vyr = vyr * 0.9 + (ayr * dt)\n",
    "    \n",
    "    padl.y += vyl * dt\n",
    "    padr.y += vyr * dt\n",
    "    \n",
    "    padr.clip_position(WIDTH, HEIGHT)\n",
    "    padl.clip_position(WIDTH, HEIGHT)"
   ]
  },
  {
   "cell_type": "code",
   "execution_count": null,
   "metadata": {},
   "outputs": [],
   "source": []
  },
  {
   "cell_type": "code",
   "execution_count": 19,
   "metadata": {},
   "outputs": [],
   "source": [
    "bvx = 192\n",
    "bvy = 192"
   ]
  },
  {
   "cell_type": "code",
   "execution_count": 20,
   "metadata": {},
   "outputs": [],
   "source": [
    "@app.run_me_again_and_again(1/120)\n",
    "def update_ball(dt):\n",
    "    \n",
    "    global bvx, bvy, sl, sr\n",
    "\n",
    "    bs0 = bvx ** 2 + bvy ** 2\n",
    "    \n",
    "    ball.rotation += 200 * dt\n",
    "    \n",
    "    ball.x += bvx * dt\n",
    "    ball.y += bvy * dt\n",
    "    \n",
    "    if ball.top >= HEIGHT:\n",
    "        app.play_once(sound)\n",
    "        ball.y -= ball.top - HEIGHT\n",
    "        bvy = -bvy\n",
    "        \n",
    "    if ball.bottom <= 0:\n",
    "        app.play_once(sound)\n",
    "        ball.y -= ball.bottom\n",
    "        bvy = -bvy\n",
    "        \n",
    "    if ball.right >= WIDTH:\n",
    "        app.play_once(sound)\n",
    "        ball.x -= ball.right - WIDTH\n",
    "        \n",
    "        bvx = -192\n",
    "        bvy = 192 * np.sign(bvy)\n",
    "        bs0 = 0\n",
    "        \n",
    "        sl += 1\n",
    "        scorel.text = str(sl)\n",
    "        \n",
    "    if ball.left <= 0:\n",
    "        app.play_once(sound)\n",
    "        ball.x -= ball.left\n",
    "        \n",
    "        bvx = 192\n",
    "        bvy = 192 * np.sign(bvy)\n",
    "        bs0 = 0\n",
    "        \n",
    "        sr += 1\n",
    "        scorer.text = str(sr)\n",
    "        \n",
    "    if bvx > 0 and ball.top >= padr.bottom and padr.top >= ball.bottom: \n",
    "        if 0 < ball.right - padr.left < 10:\n",
    "            app.play_once(sound)\n",
    "            ball.x -= ball.right - padr.left\n",
    "            bvx = -bvx\n",
    "            bvy += vyr / 2\n",
    "            \n",
    "    if bvx < 0 and ball.top >= padl.bottom and padl.top >= ball.bottom: \n",
    "        if 0 < padl.right - ball.left < 10:\n",
    "            app.play_once(sound)\n",
    "            ball.x += ball.left - padl.right\n",
    "            bvx = -bvx\n",
    "            bvy += vyl / 2\n",
    "            \n",
    "    bs1 = bvx ** 2 + bvy ** 2\n",
    "    \n",
    "    if bs1 < 0.9 * bs0:\n",
    "        bvx = (bs0 - bvy ** 2) ** 0.5 * np.sign(bvx)\n",
    "\n",
    "    ball.wrap_position(WIDTH, HEIGHT)"
   ]
  },
  {
   "cell_type": "code",
   "execution_count": 21,
   "metadata": {},
   "outputs": [],
   "source": [
    "@app.run_me_now()\n",
    "def highlights(dt):\n",
    "    \n",
    "    sl0 = sl\n",
    "    sr0 = sr\n",
    "    \n",
    "    slc = np.array(scorel.color)\n",
    "    src = np.array(scorer.color)\n",
    "    \n",
    "    while True:\n",
    "        \n",
    "        dt = yield 1/30\n",
    "        \n",
    "        r0 = 0.9 ** (120 * dt)\n",
    "        \n",
    "        scorel.color = np.array(scorel.color) * r0 + (1 - r0) * slc\n",
    "        scorer.color = np.array(scorer.color) * r0 + (1 - r0) * src\n",
    "        \n",
    "        if sl0 != sl:\n",
    "            sl0 = sl\n",
    "            scorel.color = 'white'\n",
    "\n",
    "        if sr0 != sr:\n",
    "            sr0 = sr\n",
    "            scorer.color = 'white'\n",
    "            "
   ]
  },
  {
   "cell_type": "code",
   "execution_count": 22,
   "metadata": {
    "scrolled": false
   },
   "outputs": [
    {
     "data": {
      "application/vnd.jupyter.widget-view+json": {
       "model_id": "c30db9c85e194e978e03ce07d211339d",
       "version_major": 2,
       "version_minor": 0
      },
      "text/plain": [
       "Canvas(layout=Layout(height='512px', width='512px'), size=(512, 512))"
      ]
     },
     "metadata": {},
     "output_type": "display_data"
    }
   ],
   "source": [
    "app.run()"
   ]
  },
  {
   "cell_type": "code",
   "execution_count": null,
   "metadata": {},
   "outputs": [],
   "source": []
  },
  {
   "cell_type": "code",
   "execution_count": null,
   "metadata": {},
   "outputs": [],
   "source": [
    "app.stop()"
   ]
  },
  {
   "cell_type": "code",
   "execution_count": null,
   "metadata": {},
   "outputs": [],
   "source": []
  }
 ],
 "metadata": {
  "kernelspec": {
   "display_name": "Python 3",
   "language": "python",
   "name": "python3"
  },
  "language_info": {
   "codemirror_mode": {
    "name": "ipython",
    "version": 3
   },
   "file_extension": ".py",
   "mimetype": "text/x-python",
   "name": "python",
   "nbconvert_exporter": "python",
   "pygments_lexer": "ipython3",
   "version": "3.7.4"
  }
 },
 "nbformat": 4,
 "nbformat_minor": 2
}
