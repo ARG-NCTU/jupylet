{
 "cells": [
  {
   "cell_type": "markdown",
   "metadata": {},
   "source": [
    "# Spaceships\n",
    "\n",
    "This Jupyter notebook demonstrates making a simple game with Jupylet. "
   ]
  },
  {
   "cell_type": "markdown",
   "metadata": {},
   "source": [
    "### How to use Jupyter notebooks\n",
    "\n",
    "If you are unfamiliar with Jupyter notebooks open the [*01-hello-world.ipynb*](./01-hello-world.ipynb) notebook which introduces the Jupyter notebook user inteface."
   ]
  },
  {
   "cell_type": "markdown",
   "metadata": {},
   "source": [
    "### Run the game\n",
    "\n",
    "Run this notebook and see what happens. Later when you are ready come back here to read the game code.  \n",
    "\n",
    "To run the game click `Cell` in the menubar above and selct `Run All` from the drop down list. The notebook will scroll to the bottom where a game canvas should appear with the spaceship. Click the game canvas to bring it into focus and then use the arrow keys to navigate the ship."
   ]
  },
  {
   "cell_type": "markdown",
   "metadata": {},
   "source": [
    "### The game code\n",
    "\n",
    "The code begins with a few import statements. These let us use code from other libraries and modules. In programming this is called boiler plate code since we do it again and again in every program. You can find more about these python modules by searching for them in google. For example to learn about the _math_ module search google for [_python math module_](https://www.google.com/search?q=python+math+module). One of the first results should be a link to the [documentation of the math module](https://docs.python.org/3/library/math.html). It is a collection of math related things. For example evaluating _math.pi_ returns the value of &#960;."
   ]
  },
  {
   "cell_type": "code",
   "execution_count": 1,
   "metadata": {},
   "outputs": [],
   "source": [
    "import pyglet\n",
    "import math\n",
    "import sys\n",
    "import os"
   ]
  },
  {
   "cell_type": "code",
   "execution_count": 2,
   "metadata": {},
   "outputs": [],
   "source": [
    "p0 = os.path.abspath('.')\n",
    "p1 = os.path.abspath(os.path.join(p0, '..'))\n",
    "\n",
    "sys.path.insert(0, p1)"
   ]
  },
  {
   "cell_type": "code",
   "execution_count": 3,
   "metadata": {},
   "outputs": [],
   "source": [
    "from jupylet.app import App\n",
    "from jupylet.label import Label\n",
    "from jupylet.sprite import Sprite"
   ]
  },
  {
   "cell_type": "code",
   "execution_count": 4,
   "metadata": {},
   "outputs": [],
   "source": [
    "import pyglet.window.key as key"
   ]
  },
  {
   "cell_type": "code",
   "execution_count": 5,
   "metadata": {},
   "outputs": [],
   "source": [
    "import jupylet.app"
   ]
  },
  {
   "cell_type": "code",
   "execution_count": null,
   "metadata": {},
   "outputs": [],
   "source": []
  },
  {
   "cell_type": "markdown",
   "metadata": {},
   "source": [
    "Next, we create an application object. We do this with the _App_ class that we imported above from the _jupylet.app_ module. Note the `mode` argument tells Jupylet we want the game \"screen\" to display in the notebook. If we specify `mode='window'` instead the game will run in a separate window."
   ]
  },
  {
   "cell_type": "code",
   "execution_count": 6,
   "metadata": {},
   "outputs": [],
   "source": [
    "app = App(mode='jupyter')"
   ]
  },
  {
   "cell_type": "code",
   "execution_count": 7,
   "metadata": {},
   "outputs": [],
   "source": [
    "window = app.window"
   ]
  },
  {
   "cell_type": "code",
   "execution_count": 8,
   "metadata": {},
   "outputs": [],
   "source": [
    "WIDTH = app.width\n",
    "HEIGHT = app.height"
   ]
  },
  {
   "cell_type": "code",
   "execution_count": null,
   "metadata": {},
   "outputs": [],
   "source": []
  },
  {
   "cell_type": "code",
   "execution_count": 9,
   "metadata": {},
   "outputs": [],
   "source": [
    "stars = Sprite('stars.png', scale=2.5)\n",
    "alien = Sprite('alien.png', scale=0.5)\n",
    "ship = Sprite('ship1.png', x=WIDTH/2, y=HEIGHT/2, scale=0.5)\n",
    "moon = Sprite('moon.png', x=WIDTH-70, y=HEIGHT-70, scale=0.5)"
   ]
  },
  {
   "cell_type": "code",
   "execution_count": 10,
   "metadata": {},
   "outputs": [],
   "source": [
    "circle = Sprite('yellow-circle.png', width=184)\n",
    "circle.opacity = 0"
   ]
  },
  {
   "cell_type": "code",
   "execution_count": null,
   "metadata": {},
   "outputs": [],
   "source": []
  },
  {
   "cell_type": "code",
   "execution_count": 11,
   "metadata": {},
   "outputs": [],
   "source": [
    "label = Label('Hello World!', color='cyan', font_size=16, x=10, y=10)"
   ]
  },
  {
   "cell_type": "code",
   "execution_count": 12,
   "metadata": {},
   "outputs": [],
   "source": [
    "@app.event\n",
    "def on_draw():\n",
    "    \n",
    "    window.clear()\n",
    "    \n",
    "    stars.draw()\n",
    "    moon.draw()\n",
    "    \n",
    "    label.draw()\n",
    "\n",
    "    circle.draw()\n",
    "    alien.draw()\n",
    "    ship.draw()"
   ]
  },
  {
   "cell_type": "code",
   "execution_count": 13,
   "metadata": {},
   "outputs": [],
   "source": [
    "@app.event\n",
    "def on_mouse_motion(x, y, dx, dy):\n",
    "    \n",
    "    alien.x = x\n",
    "    alien.y = y\n",
    "    \n",
    "    circle.x = x\n",
    "    circle.y = y\n",
    "    \n",
    "    \n",
    "@app.run_me_again_and_again(1/36)\n",
    "def update_alien(dt):\n",
    "    alien.rotation += dt * 36"
   ]
  },
  {
   "cell_type": "code",
   "execution_count": 14,
   "metadata": {},
   "outputs": [],
   "source": [
    "vx = 0\n",
    "vy = 0\n",
    "\n",
    "up = 0\n",
    "left = 0\n",
    "right = 0"
   ]
  },
  {
   "cell_type": "code",
   "execution_count": 15,
   "metadata": {},
   "outputs": [],
   "source": [
    "@app.run_me_again_and_again(1/120)\n",
    "def update_ship(dt):\n",
    "    \n",
    "    global vx, vy\n",
    "\n",
    "    if left:\n",
    "        ship.rotation -= 2\n",
    "        \n",
    "    if right:\n",
    "        ship.rotation += 2\n",
    "        \n",
    "    if up:\n",
    "        vx += 3 * math.cos((90 - ship.rotation) / 180 * math.pi)\n",
    "        vy += 3 * math.sin((90 - ship.rotation) / 180 * math.pi)\n",
    "\n",
    "    ship.x += vx * dt\n",
    "    ship.y += vy * dt\n",
    "    \n",
    "    ship.wrap_position(WIDTH, HEIGHT)\n",
    "    \n",
    "    if len(ship.collisions_with(alien)) > 0:\n",
    "        circle.opacity = 128\n",
    "    else:\n",
    "        circle.opacity = 0"
   ]
  },
  {
   "cell_type": "code",
   "execution_count": 16,
   "metadata": {},
   "outputs": [],
   "source": [
    "@app.event\n",
    "def on_key_press(symbol, modifiers):\n",
    "    \n",
    "    global up, left, right\n",
    "    \n",
    "    if symbol == key.UP:\n",
    "        ship.image = 'ship2.png'\n",
    "        up = True\n",
    "\n",
    "    if symbol == key.LEFT:\n",
    "        left = True\n",
    "        \n",
    "    if symbol == key.RIGHT:\n",
    "        right = True\n",
    "        \n",
    "\n",
    "@app.event\n",
    "def on_key_release(symbol, modifiers):\n",
    "    \n",
    "    global up, left, right\n",
    "    \n",
    "    if symbol == key.UP:\n",
    "        ship.image = 'ship1.png'\n",
    "        up = False\n",
    "        \n",
    "    if symbol == key.LEFT:\n",
    "        left = False\n",
    "        \n",
    "    if symbol == key.RIGHT:\n",
    "        right = False"
   ]
  },
  {
   "cell_type": "code",
   "execution_count": 17,
   "metadata": {
    "scrolled": false
   },
   "outputs": [
    {
     "data": {
      "application/vnd.jupyter.widget-view+json": {
       "model_id": "a30a45b0e59a46fa9a3b9922e75f4301",
       "version_major": 2,
       "version_minor": 0
      },
      "text/plain": [
       "Image(value=b'\\xff\\xd8\\xff\\xe0\\x00\\x10JFIF\\x00\\x01\\x01\\x00\\x00\\x01\\x00\\x01\\x00\\x00\\xff\\xdb\\x00C\\x00\\x08\\x06\\x0…"
      ]
     },
     "metadata": {},
     "output_type": "display_data"
    }
   ],
   "source": [
    "app.run()"
   ]
  },
  {
   "cell_type": "code",
   "execution_count": null,
   "metadata": {},
   "outputs": [],
   "source": []
  }
 ],
 "metadata": {
  "kernelspec": {
   "display_name": "Python 3",
   "language": "python",
   "name": "python3"
  },
  "language_info": {
   "codemirror_mode": {
    "name": "ipython",
    "version": 3
   },
   "file_extension": ".py",
   "mimetype": "text/x-python",
   "name": "python",
   "nbconvert_exporter": "python",
   "pygments_lexer": "ipython3",
   "version": "3.7.7"
  },
  "widgets": {
   "application/vnd.jupyter.widget-state+json": {
    "state": {
     "47b1132913fa4742b025c53f4548d509": {
      "model_module": "@jupyter-widgets/base",
      "model_module_version": "1.2.0",
      "model_name": "LayoutModel",
      "state": {}
     },
     "a30a45b0e59a46fa9a3b9922e75f4301": {
      "buffers": [
       {
        "data": "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",
        "encoding": "base64",
        "path": [
         "value"
        ]
       }
      ],
      "model_module": "@jupyter-widgets/controls",
      "model_module_version": "1.5.0",
      "model_name": "ImageModel",
      "state": {
       "_view_count": 1,
       "format": "JPEG",
       "layout": "IPY_MODEL_47b1132913fa4742b025c53f4548d509"
      }
     },
     "f99381a6f0414cda9896165e6bc83ac9": {
      "model_module": "ipyevents",
      "model_module_version": "1.7.1",
      "model_name": "EventModel",
      "state": {
       "_supported_key_events": [
        "keydown",
        "keyup"
       ],
       "_supported_mouse_events": [
        "click",
        "auxclick",
        "dblclick",
        "mouseenter",
        "mouseleave",
        "mousedown",
        "mouseup",
        "mousemove",
        "wheel",
        "contextmenu",
        "dragstart",
        "drag",
        "dragend",
        "dragenter",
        "dragover",
        "dragleave",
        "drop"
       ],
       "_view_module": "@jupyter-widgets/controls",
       "_view_module_version": "1.5.0",
       "source": "IPY_MODEL_a30a45b0e59a46fa9a3b9922e75f4301",
       "watched_events": [
        "keydown",
        "keyup",
        "click",
        "auxclick",
        "dblclick",
        "mouseenter",
        "mouseleave",
        "mousedown",
        "mouseup",
        "mousemove",
        "wheel",
        "contextmenu",
        "dragstart",
        "drag",
        "dragend",
        "dragenter",
        "dragover",
        "dragleave",
        "drop"
       ],
       "xy_coordinate_system": ""
      }
     }
    },
    "version_major": 2,
    "version_minor": 0
   }
  }
 },
 "nbformat": 4,
 "nbformat_minor": 2
}
