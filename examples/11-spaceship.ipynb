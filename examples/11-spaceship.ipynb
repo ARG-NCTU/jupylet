{
 "cells": [
  {
   "cell_type": "markdown",
   "metadata": {},
   "source": [
    "# Spaceships\n",
    "\n",
    "This Jupyter notebook demonstrates making a simple game with Jupylet. "
   ]
  },
  {
   "cell_type": "markdown",
   "metadata": {},
   "source": [
    "### How to use Jupyter notebooks\n",
    "\n",
    "If you are unfamiliar with Jupyter notebooks open the [*01-hello-world.ipynb*](./01-hello-world.ipynb) notebook which introduces the Jupyter notebook user inteface."
   ]
  },
  {
   "cell_type": "markdown",
   "metadata": {},
   "source": [
    "### Run the game\n",
    "\n",
    "Run this notebook and see what happens. Later when you are ready come back here to read the game code.  \n",
    "\n",
    "To run the game click `Cell` in the menubar above and selct `Run All` from the drop down list. The notebook will scroll to the bottom where a game canvas should appear with the spaceship. Click the game canvas to bring it into focus and then use the arrow keys to navigate the ship."
   ]
  },
  {
   "cell_type": "markdown",
   "metadata": {},
   "source": [
    "### The game code\n",
    "\n",
    "The code begins with a few import statements. These let us use code from other libraries and modules. In programming this is called boiler plate code since we do it again and again in every program. You can find more about these python modules by searching for them in google. For example to learn about the _math_ module search google for [_python math module_](https://www.google.com/search?q=python+math+module). One of the first results should be a link to the [documentation of the math module](https://docs.python.org/3/library/math.html). It is a collection of math related things. For example evaluating _math.pi_ returns the value of &#960;."
   ]
  },
  {
   "cell_type": "code",
   "execution_count": 1,
   "metadata": {},
   "outputs": [],
   "source": [
    "import pyglet\n",
    "import math\n",
    "import sys\n",
    "import os"
   ]
  },
  {
   "cell_type": "code",
   "execution_count": 2,
   "metadata": {},
   "outputs": [],
   "source": [
    "p0 = os.path.abspath('.')\n",
    "p1 = os.path.abspath(os.path.join(p0, '..'))\n",
    "\n",
    "sys.path.insert(0, p1)"
   ]
  },
  {
   "cell_type": "code",
   "execution_count": 3,
   "metadata": {},
   "outputs": [],
   "source": [
    "from jupylet.app import App\n",
    "from jupylet.label import Label\n",
    "from jupylet.sprite import Sprite"
   ]
  },
  {
   "cell_type": "code",
   "execution_count": 4,
   "metadata": {},
   "outputs": [],
   "source": [
    "import pyglet.window.key as key"
   ]
  },
  {
   "cell_type": "code",
   "execution_count": 5,
   "metadata": {},
   "outputs": [],
   "source": [
    "import jupylet.app"
   ]
  },
  {
   "cell_type": "code",
   "execution_count": null,
   "metadata": {},
   "outputs": [],
   "source": []
  },
  {
   "cell_type": "markdown",
   "metadata": {},
   "source": [
    "Next, we create an application object. We do this with the _App_ class that we imported above from the _jupylet.app_ module. Note the `mode` argument tells Jupylet we want the game \"screen\" to display in the notebook. If we specify `mode='window'` instead the game will run in a separate window."
   ]
  },
  {
   "cell_type": "code",
   "execution_count": 6,
   "metadata": {},
   "outputs": [],
   "source": [
    "app = App(mode='jupyter')"
   ]
  },
  {
   "cell_type": "code",
   "execution_count": 7,
   "metadata": {},
   "outputs": [],
   "source": [
    "window = app.window"
   ]
  },
  {
   "cell_type": "code",
   "execution_count": 8,
   "metadata": {},
   "outputs": [],
   "source": [
    "WIDTH = app.width\n",
    "HEIGHT = app.height"
   ]
  },
  {
   "cell_type": "code",
   "execution_count": null,
   "metadata": {},
   "outputs": [],
   "source": []
  },
  {
   "cell_type": "code",
   "execution_count": 9,
   "metadata": {},
   "outputs": [],
   "source": [
    "stars = Sprite('stars.png', scale=2.5)\n",
    "alien = Sprite('alien.png', scale=0.5)\n",
    "ship = Sprite('ship1.png', x=WIDTH/2, y=HEIGHT/2, scale=0.5)\n",
    "moon = Sprite('moon.png', x=WIDTH-70, y=HEIGHT-70, scale=0.5)"
   ]
  },
  {
   "cell_type": "code",
   "execution_count": 10,
   "metadata": {},
   "outputs": [],
   "source": [
    "circle = Sprite('yellow-circle.png', width=184)\n",
    "circle.opacity = 0"
   ]
  },
  {
   "cell_type": "code",
   "execution_count": null,
   "metadata": {},
   "outputs": [],
   "source": []
  },
  {
   "cell_type": "code",
   "execution_count": 11,
   "metadata": {},
   "outputs": [],
   "source": [
    "label = Label('Hello World!', color='cyan', font_size=16, x=10, y=10)"
   ]
  },
  {
   "cell_type": "code",
   "execution_count": 12,
   "metadata": {},
   "outputs": [],
   "source": [
    "@app.event\n",
    "def on_draw():\n",
    "    \n",
    "    window.clear()\n",
    "    \n",
    "    stars.draw()\n",
    "    moon.draw()\n",
    "    \n",
    "    label.draw()\n",
    "\n",
    "    circle.draw()\n",
    "    alien.draw()\n",
    "    ship.draw()"
   ]
  },
  {
   "cell_type": "code",
   "execution_count": 13,
   "metadata": {},
   "outputs": [],
   "source": [
    "@app.event\n",
    "def on_mouse_motion(x, y, dx, dy):\n",
    "    \n",
    "    alien.x = x\n",
    "    alien.y = y\n",
    "    \n",
    "    circle.x = x\n",
    "    circle.y = y\n",
    "    \n",
    "    \n",
    "@app.run_me_again_and_again(1/36)\n",
    "def update_alien(dt):\n",
    "    alien.rotation += dt * 36"
   ]
  },
  {
   "cell_type": "code",
   "execution_count": 14,
   "metadata": {},
   "outputs": [],
   "source": [
    "vx = 0\n",
    "vy = 0\n",
    "\n",
    "up = 0\n",
    "left = 0\n",
    "right = 0"
   ]
  },
  {
   "cell_type": "code",
   "execution_count": 15,
   "metadata": {},
   "outputs": [],
   "source": [
    "@app.run_me_again_and_again(1/120)\n",
    "def update_ship(dt):\n",
    "    \n",
    "    global vx, vy\n",
    "\n",
    "    if left:\n",
    "        ship.rotation -= 2\n",
    "        \n",
    "    if right:\n",
    "        ship.rotation += 2\n",
    "        \n",
    "    if up:\n",
    "        vx += 3 * math.cos((90 - ship.rotation) / 180 * math.pi)\n",
    "        vy += 3 * math.sin((90 - ship.rotation) / 180 * math.pi)\n",
    "\n",
    "    ship.x += vx * dt\n",
    "    ship.y += vy * dt\n",
    "    \n",
    "    ship.wrap_position(WIDTH, HEIGHT)\n",
    "    \n",
    "    if len(ship.collisions_with(alien)) > 0:\n",
    "        circle.opacity = 128\n",
    "    else:\n",
    "        circle.opacity = 0"
   ]
  },
  {
   "cell_type": "code",
   "execution_count": 16,
   "metadata": {},
   "outputs": [],
   "source": [
    "@app.event\n",
    "def on_key_press(symbol, modifiers):\n",
    "    \n",
    "    global up, left, right\n",
    "    \n",
    "    if symbol == key.UP:\n",
    "        ship.image = 'ship2.png'\n",
    "        up = True\n",
    "\n",
    "    if symbol == key.LEFT:\n",
    "        left = True\n",
    "        \n",
    "    if symbol == key.RIGHT:\n",
    "        right = True\n",
    "        \n",
    "\n",
    "@app.event\n",
    "def on_key_release(symbol, modifiers):\n",
    "    \n",
    "    global up, left, right\n",
    "    \n",
    "    if symbol == key.UP:\n",
    "        ship.image = 'ship1.png'\n",
    "        up = False\n",
    "        \n",
    "    if symbol == key.LEFT:\n",
    "        left = False\n",
    "        \n",
    "    if symbol == key.RIGHT:\n",
    "        right = False"
   ]
  },
  {
   "cell_type": "code",
   "execution_count": 17,
   "metadata": {
    "scrolled": false
   },
   "outputs": [
    {
     "data": {
      "application/vnd.jupyter.widget-view+json": {
       "model_id": "8f240162cce744d28d9af153f1a34d6c",
       "version_major": 2,
       "version_minor": 0
      },
      "text/plain": [
       "Image(value=b'\\xff\\xd8\\xff\\xe0\\x00\\x10JFIF\\x00\\x01\\x01\\x00\\x00\\x01\\x00\\x01\\x00\\x00\\xff\\xdb\\x00C\\x00\\x08\\x06\\x0…"
      ]
     },
     "metadata": {},
     "output_type": "display_data"
    }
   ],
   "source": [
    "app.run()"
   ]
  },
  {
   "cell_type": "code",
   "execution_count": null,
   "metadata": {},
   "outputs": [],
   "source": []
  }
 ],
 "metadata": {
  "kernelspec": {
   "display_name": "Python 3",
   "language": "python",
   "name": "python3"
  },
  "language_info": {
   "codemirror_mode": {
    "name": "ipython",
    "version": 3
   },
   "file_extension": ".py",
   "mimetype": "text/x-python",
   "name": "python",
   "nbconvert_exporter": "python",
   "pygments_lexer": "ipython3",
   "version": "3.7.7"
  },
  "widgets": {
   "application/vnd.jupyter.widget-state+json": {
    "state": {
     "16c7e185b6e0477097722cd99c29f7c9": {
      "model_module": "@jupyter-widgets/base",
      "model_module_version": "1.2.0",
      "model_name": "LayoutModel",
      "state": {}
     },
     "202c873c79be48d2a7f34b8a5a9a85c3": {
      "model_module": "ipyevents",
      "model_module_version": "1.7.1",
      "model_name": "EventModel",
      "state": {
       "_supported_key_events": [
        "keydown",
        "keyup"
       ],
       "_supported_mouse_events": [
        "click",
        "auxclick",
        "dblclick",
        "mouseenter",
        "mouseleave",
        "mousedown",
        "mouseup",
        "mousemove",
        "wheel",
        "contextmenu",
        "dragstart",
        "drag",
        "dragend",
        "dragenter",
        "dragover",
        "dragleave",
        "drop"
       ],
       "_view_module": "@jupyter-widgets/controls",
       "_view_module_version": "1.5.0",
       "source": "IPY_MODEL_8f240162cce744d28d9af153f1a34d6c",
       "watched_events": [
        "keydown",
        "keyup",
        "click",
        "auxclick",
        "dblclick",
        "mouseenter",
        "mouseleave",
        "mousedown",
        "mouseup",
        "mousemove",
        "wheel",
        "contextmenu",
        "dragstart",
        "drag",
        "dragend",
        "dragenter",
        "dragover",
        "dragleave",
        "drop"
       ],
       "xy_coordinate_system": ""
      }
     },
     "8f240162cce744d28d9af153f1a34d6c": {
      "buffers": [
       {
        "data": "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",
        "encoding": "base64",
        "path": [
         "value"
        ]
       }
      ],
      "model_module": "@jupyter-widgets/controls",
      "model_module_version": "1.5.0",
      "model_name": "ImageModel",
      "state": {
       "_view_count": 1,
       "format": "JPEG",
       "layout": "IPY_MODEL_16c7e185b6e0477097722cd99c29f7c9"
      }
     }
    },
    "version_major": 2,
    "version_minor": 0
   }
  }
 },
 "nbformat": 4,
 "nbformat_minor": 2
}
