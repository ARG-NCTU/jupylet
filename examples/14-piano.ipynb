{
 "cells": [
  {
   "cell_type": "markdown",
   "metadata": {},
   "source": [
    "### Piano\n",
    "\n",
    "Run this notebook and see what happens. \n",
    "\n",
    "Click the game canvas once it shows up to bring it into focus.\n",
    "\n",
    "* Keyboard image was adapted from [jack-keyboard](http://jack-keyboard.sourceforge.net/).\n",
    "* The sampled Xylophone is by the [Versilian Community Sample Library](https://vis.versilstudios.com/vcsl.html)."
   ]
  },
  {
   "cell_type": "code",
   "execution_count": null,
   "metadata": {},
   "outputs": [],
   "source": []
  },
  {
   "cell_type": "code",
   "execution_count": 1,
   "metadata": {},
   "outputs": [],
   "source": [
    "import sys\n",
    "import os\n",
    "\n",
    "import numpy as np"
   ]
  },
  {
   "cell_type": "code",
   "execution_count": 2,
   "metadata": {},
   "outputs": [],
   "source": [
    "sys.path.insert(0, os.path.abspath('./..'))"
   ]
  },
  {
   "cell_type": "code",
   "execution_count": 3,
   "metadata": {},
   "outputs": [],
   "source": [
    "import jupylet.color\n",
    "\n",
    "from jupylet.app import App\n",
    "from jupylet.state import State\n",
    "from jupylet.label import Label\n",
    "from jupylet.sprite import Sprite"
   ]
  },
  {
   "cell_type": "code",
   "execution_count": 4,
   "metadata": {},
   "outputs": [],
   "source": [
    "from jupylet.audio.effects import ConvolutionReverb\n",
    "from jupylet.audio.device import get_oscilloscope_as_image, set_effects\n",
    "from jupylet.audio.sample import Sample\n",
    "from jupylet.audio.sound import note\n",
    "from jupylet.audio.synth import tb303\n",
    "from jupylet.audio import use, play, sleep\n"
   ]
  },
  {
   "cell_type": "code",
   "execution_count": null,
   "metadata": {},
   "outputs": [],
   "source": []
  },
  {
   "cell_type": "code",
   "execution_count": 5,
   "metadata": {},
   "outputs": [],
   "source": [
    "app = App(width=512, height=420)#, log_level=logging.INFO)"
   ]
  },
  {
   "cell_type": "code",
   "execution_count": 6,
   "metadata": {},
   "outputs": [],
   "source": [
    "oscilloscope = Sprite(np.zeros((256, 512, 4), 'uint8'), x=256, y=292)"
   ]
  },
  {
   "cell_type": "code",
   "execution_count": 7,
   "metadata": {},
   "outputs": [],
   "source": [
    "keyboard_layout = Sprite('images/keyboard.png', x=256, y=82, scale=0.5)"
   ]
  },
  {
   "cell_type": "code",
   "execution_count": null,
   "metadata": {},
   "outputs": [],
   "source": []
  },
  {
   "cell_type": "code",
   "execution_count": 8,
   "metadata": {},
   "outputs": [],
   "source": [
    "state = State(\n",
    "    \n",
    "    amp = 1.,\n",
    "    ms = 50.,\n",
    "    \n",
    "    up = False,\n",
    "    down = False,\n",
    "    left = False,\n",
    "    right = False,\n",
    ")"
   ]
  },
  {
   "cell_type": "code",
   "execution_count": 9,
   "metadata": {},
   "outputs": [],
   "source": [
    "label0 = Label('amp: %.1f' % state.amp, x=10, y=194)\n",
    "label1 = Label('span: %.1f ms' % state.ms, x=10, y=174)\n",
    "label2 = Label('use ← → ↑ ↓ to modify', anchor_x='right', x=app.width - 10, y=174)"
   ]
  },
  {
   "cell_type": "code",
   "execution_count": null,
   "metadata": {},
   "outputs": [],
   "source": []
  },
  {
   "cell_type": "code",
   "execution_count": 10,
   "metadata": {},
   "outputs": [],
   "source": [
    "keys = app.window.keys\n",
    "\n",
    "keyboard = {\n",
    "\n",
    "    keys.Z: note.C,\n",
    "    keys.S: note.Cs,\n",
    "    keys.X: note.D,\n",
    "    keys.D: note.Ds,\n",
    "    keys.C: note.E,\n",
    "    keys.V: note.F,\n",
    "    keys.G: note.Fs,\n",
    "    keys.B: note.G,\n",
    "    keys.H: note.Gs,\n",
    "    keys.N: note.A,\n",
    "    keys.J: note.As,\n",
    "    keys.M: note.B,\n",
    "\n",
    "    keys.Q: note.C5,\n",
    "    50: note.Cs5,\n",
    "    keys.W: note.D5,\n",
    "    51: note.Ds5,\n",
    "    keys.E: note.E5,\n",
    "    keys.R: note.F5,\n",
    "    53: note.Fs5,\n",
    "    keys.T: note.G5,\n",
    "    54: note.Gs5,\n",
    "    keys.Y: note.A5,\n",
    "    55: note.As5,\n",
    "    keys.U: note.B5,\n",
    "\n",
    "    keys.I: note.C6,\n",
    "    57: note.Cs6,\n",
    "    keys.O: note.D6,\n",
    "    48: note.Ds6,\n",
    "    keys.P: note.E6,\n",
    "}"
   ]
  },
  {
   "cell_type": "code",
   "execution_count": 11,
   "metadata": {},
   "outputs": [],
   "source": [
    "_keyd = {}"
   ]
  },
  {
   "cell_type": "code",
   "execution_count": 12,
   "metadata": {},
   "outputs": [],
   "source": [
    "@app.event\n",
    "def key_event(key, action, modifiers):\n",
    "            \n",
    "    keys = app.window.keys\n",
    "    value = action == keys.ACTION_PRESS\n",
    "\n",
    "    if key == keys.UP:\n",
    "        state.up = value\n",
    "\n",
    "    if key == keys.DOWN:\n",
    "        state.down = value\n",
    "\n",
    "    if key == keys.RIGHT:\n",
    "        state.right = value\n",
    "\n",
    "    if key == keys.LEFT:\n",
    "        state.left = value\n",
    "        \n",
    "    if action == keys.ACTION_PRESS and key in keyboard:\n",
    "        assert key not in _keyd\n",
    "        _keyd[key] = tb303.play_new(note=keyboard[key])\n",
    "        \n",
    "    if action == keys.ACTION_RELEASE and key in keyboard:\n",
    "        _keyd.pop(key).play_release()"
   ]
  },
  {
   "cell_type": "code",
   "execution_count": null,
   "metadata": {},
   "outputs": [],
   "source": []
  },
  {
   "cell_type": "code",
   "execution_count": 13,
   "metadata": {},
   "outputs": [],
   "source": [
    "@app.run_me_every(1/24)\n",
    "def modify_oscilloscope(ct, dt):\n",
    "    \n",
    "    s = 2 ** dt\n",
    "    \n",
    "    if state.up:\n",
    "        state.amp *= s\n",
    "        label0.text = 'amp: %.1f' % state.amp\n",
    "\n",
    "    if state.down:\n",
    "        state.amp /= s\n",
    "        label0.text = 'amp: %.1f' % state.amp\n",
    "\n",
    "    if state.right:\n",
    "        state.ms *= s\n",
    "        state.ms = min(256, state.ms)\n",
    "        label1.text = 'span: %.1f ms' % state.ms\n",
    "\n",
    "    if state.left:\n",
    "        state.ms /= s\n",
    "        label1.text = 'span: %.1f ms' % state.ms"
   ]
  },
  {
   "cell_type": "code",
   "execution_count": null,
   "metadata": {},
   "outputs": [],
   "source": []
  },
  {
   "cell_type": "code",
   "execution_count": 14,
   "metadata": {},
   "outputs": [],
   "source": [
    "@app.event\n",
    "def render(ct, dt):\n",
    "    \n",
    "    app.window.clear(color='#555')\n",
    "    \n",
    "    im, ts, te = get_oscilloscope_as_image(\n",
    "        1/app.interval,\n",
    "        ms=state.ms, \n",
    "        amp=state.amp, \n",
    "        color=255, \n",
    "        size=(512, 256)\n",
    "    )\n",
    "    \n",
    "    oscilloscope.image = im    \n",
    "    oscilloscope.draw()\n",
    "    \n",
    "    keyboard_layout.draw()\n",
    "    \n",
    "    label0.draw()\n",
    "    label1.draw()\n",
    "    label2.draw()"
   ]
  },
  {
   "cell_type": "code",
   "execution_count": null,
   "metadata": {},
   "outputs": [],
   "source": []
  },
  {
   "cell_type": "code",
   "execution_count": 15,
   "metadata": {},
   "outputs": [],
   "source": [
    "#\n",
    "# Uncomment to see logging messages in case of trouble.\n",
    "#\n",
    "#app.get_logging_widget()"
   ]
  },
  {
   "cell_type": "code",
   "execution_count": 16,
   "metadata": {},
   "outputs": [
    {
     "data": {
      "application/vnd.jupyter.widget-view+json": {
       "model_id": "bb45be0118e94d948ba5c04104fdf6d4",
       "version_major": 2,
       "version_minor": 0
      },
      "text/plain": [
       "Image(value=b'\\xff\\xd8\\xff\\xe0\\x00\\x10JFIF\\x00\\x01\\x01\\x00\\x00\\x01\\x00\\x01\\x00\\x00\\xff\\xdb\\x00C\\x00\\x08\\x06\\x0…"
      ]
     },
     "metadata": {},
     "output_type": "display_data"
    }
   ],
   "source": [
    "app.run()"
   ]
  },
  {
   "cell_type": "code",
   "execution_count": 17,
   "metadata": {},
   "outputs": [],
   "source": [
    "#\n",
    "# Uncomment to set the tb303 wave function to square wave.\n",
    "#\n",
    "#tb303.osc0.shape = 'pulse'\n",
    "#"
   ]
  },
  {
   "cell_type": "code",
   "execution_count": 18,
   "metadata": {},
   "outputs": [],
   "source": [
    "#\n",
    "# Uncomment the following line to set up a beautiful reverb effect that \n",
    "# adds a sense of space and a touch of realism to the synthesized instrument. \n",
    "# Try it with a pair of good headphones. \n",
    "#\n",
    "#set_effects(ConvolutionReverb('./sounds/impulses/MaesHowe.flac'))\n",
    "#"
   ]
  },
  {
   "cell_type": "code",
   "execution_count": 19,
   "metadata": {},
   "outputs": [],
   "source": [
    "#\n",
    "# The reverb effect might introduce some latency to the virtual keyboard.\n",
    "# If that happens you can either switch your computer's power plan to performance mode,\n",
    "# or disable the reverb effect by uncommenting and running the following line:\n",
    "#\n",
    "#set_effects()\n",
    "#"
   ]
  },
  {
   "cell_type": "code",
   "execution_count": 20,
   "metadata": {},
   "outputs": [],
   "source": [
    "#\n",
    "# The following line turns MIDI on. If you have an electric piano, hook it up \n",
    "# to your computer and it should just work.\n",
    "#"
   ]
  },
  {
   "cell_type": "code",
   "execution_count": 21,
   "metadata": {},
   "outputs": [],
   "source": [
    "app.set_midi_sound(tb303)"
   ]
  },
  {
   "cell_type": "code",
   "execution_count": null,
   "metadata": {},
   "outputs": [],
   "source": []
  },
  {
   "cell_type": "code",
   "execution_count": 22,
   "metadata": {},
   "outputs": [],
   "source": [
    "xylo = Sample('sounds/VCSL/Xylophone/Xylophone - Medium Mallets.sfz')\n",
    "xylo.amp = 8"
   ]
  },
  {
   "cell_type": "code",
   "execution_count": 23,
   "metadata": {},
   "outputs": [],
   "source": [
    "#\n",
    "# Uncomment to set MIDI sound to a sampled Xylophone.\n",
    "#\n",
    "#app.set_midi_sound(xylo)\n",
    "#"
   ]
  },
  {
   "cell_type": "code",
   "execution_count": null,
   "metadata": {},
   "outputs": [],
   "source": []
  },
  {
   "cell_type": "code",
   "execution_count": 24,
   "metadata": {},
   "outputs": [],
   "source": [
    "@app.sonic_live_loop(times=32)\n",
    "async def loop0():\n",
    "            \n",
    "    use(tb303, duration=1.7, amp=0.4)\n",
    "\n",
    "    play('C2')\n",
    "    await sleep(3.)\n",
    "\n",
    "    play('E2')\n",
    "    await sleep(3.)\n",
    "\n",
    "    play('C2')\n",
    "    await sleep(6.)\n"
   ]
  },
  {
   "cell_type": "code",
   "execution_count": 25,
   "metadata": {},
   "outputs": [],
   "source": [
    "@app.sonic_live_loop\n",
    "async def loop1():\n",
    "    \n",
    "    use(xylo, duration=1., amp=8)\n",
    "        \n",
    "    play(note.C5)\n",
    "    await sleep(1.)\n",
    "\n",
    "    play(note.E5)\n",
    "    await sleep(1.)\n",
    "\n",
    "    play(note.G5)\n",
    "    await sleep(1.)"
   ]
  },
  {
   "cell_type": "code",
   "execution_count": 26,
   "metadata": {},
   "outputs": [],
   "source": [
    "#\n",
    "# Uncomment and run to stop the two live loops.\n",
    "#\n",
    "#app.stop(loop0)\n",
    "#app.stop(loop1)\n",
    "#"
   ]
  },
  {
   "cell_type": "code",
   "execution_count": null,
   "metadata": {},
   "outputs": [],
   "source": []
  }
 ],
 "metadata": {
  "kernelspec": {
   "display_name": "Python 3",
   "language": "python",
   "name": "python3"
  },
  "language_info": {
   "codemirror_mode": {
    "name": "ipython",
    "version": 3
   },
   "file_extension": ".py",
   "mimetype": "text/x-python",
   "name": "python",
   "nbconvert_exporter": "python",
   "pygments_lexer": "ipython3",
   "version": "3.8.5"
  }
 },
 "nbformat": 4,
 "nbformat_minor": 2
}
