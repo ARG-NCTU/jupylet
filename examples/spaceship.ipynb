{
 "cells": [
  {
   "cell_type": "markdown",
   "metadata": {},
   "source": [
    "### Spaceship"
   ]
  },
  {
   "cell_type": "code",
   "execution_count": null,
   "metadata": {},
   "outputs": [],
   "source": []
  },
  {
   "cell_type": "code",
   "execution_count": 1,
   "metadata": {},
   "outputs": [],
   "source": [
    "import pyglet\n",
    "import math\n",
    "import sys\n",
    "import os"
   ]
  },
  {
   "cell_type": "code",
   "execution_count": 2,
   "metadata": {},
   "outputs": [],
   "source": [
    "p0 = os.path.abspath('.')\n",
    "p1 = os.path.abspath(os.path.join(p0, '..'))\n",
    "\n",
    "sys.path.insert(0, p1)"
   ]
  },
  {
   "cell_type": "code",
   "execution_count": 3,
   "metadata": {},
   "outputs": [],
   "source": [
    "import jupylet\n",
    "\n",
    "from jupylet import *"
   ]
  },
  {
   "cell_type": "code",
   "execution_count": null,
   "metadata": {},
   "outputs": [],
   "source": []
  },
  {
   "cell_type": "code",
   "execution_count": 4,
   "metadata": {},
   "outputs": [],
   "source": [
    "app = App(mode='jupyter', buffer=True)"
   ]
  },
  {
   "cell_type": "code",
   "execution_count": 5,
   "metadata": {},
   "outputs": [],
   "source": [
    "window = app.window"
   ]
  },
  {
   "cell_type": "code",
   "execution_count": 6,
   "metadata": {},
   "outputs": [],
   "source": [
    "WIDTH = app.width\n",
    "HEIGHT = app.height"
   ]
  },
  {
   "cell_type": "code",
   "execution_count": 16,
   "metadata": {},
   "outputs": [],
   "source": [
    "stars = Sprite('stars.png', scale=2.5)\n",
    "alien = Sprite('alien.png', scale=0.5)\n",
    "ship = Sprite('ship1.png', x=WIDTH/2, y=HEIGHT/2, scale=0.5)\n",
    "moon = Sprite('moon.png', x=WIDTH-70, y=HEIGHT-70, scale=0.5)"
   ]
  },
  {
   "cell_type": "code",
   "execution_count": 8,
   "metadata": {},
   "outputs": [],
   "source": [
    "label = Label('Hello World!', font_size=16, x=10, y=10)"
   ]
  },
  {
   "cell_type": "code",
   "execution_count": null,
   "metadata": {},
   "outputs": [],
   "source": []
  },
  {
   "cell_type": "code",
   "execution_count": 9,
   "metadata": {},
   "outputs": [],
   "source": [
    "@app.event\n",
    "def on_draw():\n",
    "    \n",
    "    window.clear()\n",
    "    \n",
    "    stars.draw()\n",
    "    moon.draw()\n",
    "    \n",
    "    label.draw()\n",
    "    alien.draw()\n",
    "    ship.draw()"
   ]
  },
  {
   "cell_type": "code",
   "execution_count": 10,
   "metadata": {},
   "outputs": [],
   "source": [
    "@app.event\n",
    "def on_mouse_motion(x, y, dx, dy):\n",
    "    alien.x = x\n",
    "    alien.y = y\n",
    "    \n",
    "    \n",
    "@app.schedule_interval(1/36)\n",
    "def update_alien(dt):\n",
    "    alien.rotation += dt * 36"
   ]
  },
  {
   "cell_type": "code",
   "execution_count": 11,
   "metadata": {},
   "outputs": [],
   "source": [
    "vx = 0\n",
    "vy = 0\n",
    "\n",
    "up = 0\n",
    "left = 0\n",
    "right = 0"
   ]
  },
  {
   "cell_type": "code",
   "execution_count": 12,
   "metadata": {},
   "outputs": [],
   "source": [
    "@app.schedule_interval(1/120)\n",
    "def update_ship(dt):\n",
    "    \n",
    "    global vx, vy\n",
    "\n",
    "    if left:\n",
    "        ship.rotation -= 2\n",
    "        \n",
    "    if right:\n",
    "        ship.rotation += 2\n",
    "        \n",
    "    if up:\n",
    "        vx += 3 * math.cos((90 - ship.rotation) / 180 * math.pi)\n",
    "        vy += 3 * math.sin((90 - ship.rotation) / 180 * math.pi)\n",
    "\n",
    "    ship.x += vx * dt\n",
    "    ship.y += vy * dt\n",
    "    \n",
    "    ship.wrap_position(WIDTH, HEIGHT)"
   ]
  },
  {
   "cell_type": "code",
   "execution_count": 13,
   "metadata": {},
   "outputs": [],
   "source": [
    "@app.event\n",
    "def on_key_press(symbol, modifiers):\n",
    "    \n",
    "    global up, left, right\n",
    "    \n",
    "    if symbol == pyglet.window.key.UP:\n",
    "        ship.image = 'ship2.png'\n",
    "        up = True\n",
    "\n",
    "    if symbol == pyglet.window.key.LEFT:\n",
    "        left = True\n",
    "        \n",
    "    if symbol == pyglet.window.key.RIGHT:\n",
    "        right = True\n",
    "        \n",
    "\n",
    "@app.event\n",
    "def on_key_release(symbol, modifiers):\n",
    "    \n",
    "    global up, left, right\n",
    "    \n",
    "    if symbol == pyglet.window.key.UP:\n",
    "        ship.image = 'ship1.png'\n",
    "        up = False\n",
    "        \n",
    "    if symbol == pyglet.window.key.LEFT:\n",
    "        left = False\n",
    "        \n",
    "    if symbol == pyglet.window.key.RIGHT:\n",
    "        right = False"
   ]
  },
  {
   "cell_type": "code",
   "execution_count": 14,
   "metadata": {
    "scrolled": false
   },
   "outputs": [
    {
     "data": {
      "application/vnd.jupyter.widget-view+json": {
       "model_id": "a2be6a38266e45f19054089560e1319d",
       "version_major": 2,
       "version_minor": 0
      },
      "text/plain": [
       "Canvas(layout=Layout(height='512px', width='512px'), size=(512, 512))"
      ]
     },
     "metadata": {},
     "output_type": "display_data"
    }
   ],
   "source": [
    "app.run()"
   ]
  },
  {
   "cell_type": "code",
   "execution_count": 15,
   "metadata": {},
   "outputs": [],
   "source": [
    "vx = 0\n",
    "vy = 0\n",
    "\n",
    "ship.x = WIDTH / 2\n",
    "ship.y = HEIGHT / 2"
   ]
  },
  {
   "cell_type": "code",
   "execution_count": null,
   "metadata": {},
   "outputs": [],
   "source": []
  }
 ],
 "metadata": {
  "kernelspec": {
   "display_name": "Python 3",
   "language": "python",
   "name": "python3"
  },
  "language_info": {
   "codemirror_mode": {
    "name": "ipython",
    "version": 3
   },
   "file_extension": ".py",
   "mimetype": "text/x-python",
   "name": "python",
   "nbconvert_exporter": "python",
   "pygments_lexer": "ipython3",
   "version": "3.7.5"
  }
 },
 "nbformat": 4,
 "nbformat_minor": 2
}
